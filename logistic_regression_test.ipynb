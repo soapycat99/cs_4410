{
  "nbformat": 4,
  "nbformat_minor": 0,
  "metadata": {
    "colab": {
      "name": "Untitled10.ipynb",
      "provenance": [],
      "authorship_tag": "ABX9TyM3QZkZYYoTDDttJ9RoccEZ",
      "include_colab_link": true
    },
    "kernelspec": {
      "name": "python3",
      "display_name": "Python 3"
    },
    "language_info": {
      "name": "python"
    }
  },
  "cells": [
    {
      "cell_type": "markdown",
      "metadata": {
        "id": "view-in-github",
        "colab_type": "text"
      },
      "source": [
        "<a href=\"https://colab.research.google.com/github/soapycat99/cs_4410/blob/main/logistic_regression_test.ipynb\" target=\"_parent\"><img src=\"https://colab.research.google.com/assets/colab-badge.svg\" alt=\"Open In Colab\"/></a>"
      ]
    },
    {
      "cell_type": "code",
      "metadata": {
        "id": "giQFva-FSRgz"
      },
      "source": [
        "#S1: Import the required modules\n",
        "import matplotlib.pyplot as plt\n",
        "from sklearn.datasets import make_classification\n",
        "from sklearn.linear_model import LogisticRegression\n",
        "from sklearn.model_selection import train_test_split\n",
        "from sklearn.metrics import confusion_matrix\n",
        "import pandas as pd"
      ],
      "execution_count": 9,
      "outputs": []
    },
    {
      "cell_type": "code",
      "metadata": {
        "id": "njQdrGLgSh10"
      },
      "source": [
        "#S2: Generate the dataset\n",
        "x, y = make_classification(\n",
        "    n_samples=100,\n",
        "    n_features=1,\n",
        "    n_classes=2,\n",
        "    n_clusters_per_class=1,\n",
        "    flip_y=0.03,\n",
        "    n_informative=1,\n",
        "    n_redundant=0,\n",
        "    n_repeated=0\n",
        ")\n"
      ],
      "execution_count": 26,
      "outputs": []
    },
    {
      "cell_type": "code",
      "metadata": {
        "colab": {
          "base_uri": "https://localhost:8080/",
          "height": 281
        },
        "id": "siwIOVV2SkRA",
        "outputId": "ad88f678-1ca3-43da-df7b-7696738a55b8"
      },
      "source": [
        "#S3: Visualize the Data\n",
        "plt.scatter(x, y, c=y, cmap='rainbow')\n",
        "plt.title('Scatter Plot of Logistic Regression')\n",
        "plt.show()"
      ],
      "execution_count": 29,
      "outputs": [
        {
          "output_type": "display_data",
          "data": {
            "image/png": "[encoded data removed]",
            "text/plain": [
              "<Figure size 432x288 with 1 Axes>"
            ]
          },
          "metadata": {
            "needs_background": "light"
          }
        }
      ]
    },
    {
      "cell_type": "code",
      "metadata": {
        "id": "KDsTd-0ESlsy"
      },
      "source": [
        "#S4: Split the Dataset\n",
        "X_train, X_test, y_train, y_test = train_test_split(x, y, random_state=1)"
      ],
      "execution_count": 30,
      "outputs": []
    },
    {
      "cell_type": "code",
      "metadata": {
        "colab": {
          "base_uri": "https://localhost:8080/"
        },
        "id": "ml1XLRjRSncY",
        "outputId": "c9110964-d006-4817-d1f3-b6d997be0d31"
      },
      "source": [
        "#S5: Perform Logistic Regression\n",
        "log_reg = LogisticRegression()\n",
        "log_reg.fit(X_train, y_train)\n",
        "\n",
        "print(log_reg.coef_)\n",
        "print(log_reg.intercept_)"
      ],
      "execution_count": 38,
      "outputs": [
        {
          "output_type": "stream",
          "name": "stdout",
          "text": [
            "[[2.81347111]]\n",
            "[0.63210722]\n"
          ]
        }
      ]
    },
    {
      "cell_type": "code",
      "metadata": {
        "id": "LlQG2jV0SpP2"
      },
      "source": [
        "#S6: Make prediction using the model\n",
        "\n",
        "y_pred = log_reg.predict(X_test)\n"
      ],
      "execution_count": 41,
      "outputs": []
    },
    {
      "cell_type": "code",
      "metadata": {
        "colab": {
          "base_uri": "https://localhost:8080/"
        },
        "id": "RXtPWKcDSqhp",
        "outputId": "049ef1f7-ea4c-4c03-dfcf-f5bb3dc95e23"
      },
      "source": [
        "#S7: Display the Confusion MAtrix\n",
        "confusion_matrix(y_test, y_pred)"
      ],
      "execution_count": 42,
      "outputs": [
        {
          "output_type": "execute_result",
          "data": {
            "text/plain": [
              "array([[12,  0],\n",
              "       [ 0, 13]])"
            ]
          },
          "metadata": {},
          "execution_count": 42
        }
      ]
    },
    {
      "cell_type": "code",
      "metadata": {
        "id": "UZQrb5oSStiR"
      },
      "source": [
        ""
      ],
      "execution_count": null,
      "outputs": []
    }
  ]
}