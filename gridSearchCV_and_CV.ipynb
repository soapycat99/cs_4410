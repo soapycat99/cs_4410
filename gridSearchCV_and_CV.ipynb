{
  "nbformat": 4,
  "nbformat_minor": 0,
  "metadata": {
    "colab": {
      "name": "Untitled9.ipynb",
      "provenance": [],
      "authorship_tag": "ABX9TyO1oH7wisRCidZ0/V+ZmzjP",
      "include_colab_link": true
    },
    "kernelspec": {
      "name": "python3",
      "display_name": "Python 3"
    },
    "language_info": {
      "name": "python"
    }
  },
  "cells": [
    {
      "cell_type": "markdown",
      "metadata": {
        "id": "view-in-github",
        "colab_type": "text"
      },
      "source": [
        "<a href=\"https://colab.research.google.com/github/soapycat99/cs_4410/blob/main/gridSearchCV_and_CV.ipynb\" target=\"_parent\"><img src=\"https://colab.research.google.com/assets/colab-badge.svg\" alt=\"Open In Colab\"/></a>"
      ]
    },
    {
      "cell_type": "code",
      "metadata": {
        "id": "7Qdj6QavnJVn"
      },
      "source": [
        "from sklearn.datasets import load_iris\n",
        "from sklearn.neighbors import KNeighborsClassifier\n",
        "from sklearn.model_selection import cross_val_score\n",
        "from sklearn import metrics\n",
        "import pandas as pd"
      ],
      "execution_count": 38,
      "outputs": []
    },
    {
      "cell_type": "code",
      "metadata": {
        "id": "fymKz1B6nkiP"
      },
      "source": [
        "iris = load_iris()"
      ],
      "execution_count": 2,
      "outputs": []
    },
    {
      "cell_type": "code",
      "metadata": {
        "colab": {
          "base_uri": "https://localhost:8080/"
        },
        "id": "THe4Zm3fnoN-",
        "outputId": "de11a4af-19fc-4910-d2d4-69160620b7a6"
      },
      "source": [
        "type(iris)"
      ],
      "execution_count": 7,
      "outputs": [
        {
          "output_type": "execute_result",
          "data": {
            "text/plain": [
              "sklearn.utils.Bunch"
            ]
          },
          "metadata": {},
          "execution_count": 7
        }
      ]
    },
    {
      "cell_type": "code",
      "metadata": {
        "id": "7oMzx3TBnrT8"
      },
      "source": [
        "iris_df = pd.DataFrame(iris.data,columns=iris.feature_names)"
      ],
      "execution_count": 16,
      "outputs": []
    },
    {
      "cell_type": "code",
      "metadata": {
        "colab": {
          "base_uri": "https://localhost:8080/",
          "height": 204
        },
        "id": "ox24PcSCn_9V",
        "outputId": "44b4e60c-4c58-434e-f427-8623b725e64b"
      },
      "source": [
        "iris_df.head()"
      ],
      "execution_count": 17,
      "outputs": [
        {
          "output_type": "execute_result",
          "data": {
            "text/html": [
              "<div>\n",
              "<style scoped>\n",
              "    .dataframe tbody tr th:only-of-type {\n",
              "        vertical-align: middle;\n",
              "    }\n",
              "\n",
              "    .dataframe tbody tr th {\n",
              "        vertical-align: top;\n",
              "    }\n",
              "\n",
              "    .dataframe thead th {\n",
              "        text-align: right;\n",
              "    }\n",
              "</style>\n",
              "<table border=\"1\" class=\"dataframe\">\n",
              "  <thead>\n",
              "    <tr style=\"text-align: right;\">\n",
              "      <th></th>\n",
              "      <th>sepal length (cm)</th>\n",
              "      <th>sepal width (cm)</th>\n",
              "      <th>petal length (cm)</th>\n",
              "      <th>petal width (cm)</th>\n",
              "    </tr>\n",
              "  </thead>\n",
              "  <tbody>\n",
              "    <tr>\n",
              "      <th>0</th>\n",
              "      <td>5.1</td>\n",
              "      <td>3.5</td>\n",
              "      <td>1.4</td>\n",
              "      <td>0.2</td>\n",
              "    </tr>\n",
              "    <tr>\n",
              "      <th>1</th>\n",
              "      <td>4.9</td>\n",
              "      <td>3.0</td>\n",
              "      <td>1.4</td>\n",
              "      <td>0.2</td>\n",
              "    </tr>\n",
              "    <tr>\n",
              "      <th>2</th>\n",
              "      <td>4.7</td>\n",
              "      <td>3.2</td>\n",
              "      <td>1.3</td>\n",
              "      <td>0.2</td>\n",
              "    </tr>\n",
              "    <tr>\n",
              "      <th>3</th>\n",
              "      <td>4.6</td>\n",
              "      <td>3.1</td>\n",
              "      <td>1.5</td>\n",
              "      <td>0.2</td>\n",
              "    </tr>\n",
              "    <tr>\n",
              "      <th>4</th>\n",
              "      <td>5.0</td>\n",
              "      <td>3.6</td>\n",
              "      <td>1.4</td>\n",
              "      <td>0.2</td>\n",
              "    </tr>\n",
              "  </tbody>\n",
              "</table>\n",
              "</div>"
            ],
            "text/plain": [
              "   sepal length (cm)  sepal width (cm)  petal length (cm)  petal width (cm)\n",
              "0                5.1               3.5                1.4               0.2\n",
              "1                4.9               3.0                1.4               0.2\n",
              "2                4.7               3.2                1.3               0.2\n",
              "3                4.6               3.1                1.5               0.2\n",
              "4                5.0               3.6                1.4               0.2"
            ]
          },
          "metadata": {},
          "execution_count": 17
        }
      ]
    },
    {
      "cell_type": "code",
      "metadata": {
        "id": "1upCm22xoZ0R"
      },
      "source": [
        "from sklearn.model_selection import train_test_split\n",
        "X = iris.data\n",
        "y = iris.target"
      ],
      "execution_count": 22,
      "outputs": []
    },
    {
      "cell_type": "code",
      "metadata": {
        "id": "WuPL0hV-syaL"
      },
      "source": [
        "X_train, X_test, y_train, y_test = train_test_split(X, y, test_size=0.2, random_state=11)"
      ],
      "execution_count": 27,
      "outputs": []
    },
    {
      "cell_type": "code",
      "metadata": {
        "colab": {
          "base_uri": "https://localhost:8080/"
        },
        "id": "3ezfXSwftNlG",
        "outputId": "27b6ab7a-1729-49a3-a7a6-62aea4e82429"
      },
      "source": [
        "k_range = range(1,31,2)\n",
        "k_scores = []\n",
        "for k in k_range:\n",
        "  knn = KNeighborsClassifier(n_neighbors = k)\n",
        "  scores = cross_val_score(knn, X, y, cv=10)\n",
        "  k_scores.append(scores.mean())\n",
        "  print(f'k={k:<2} ; mean_accuracy={scores.mean():.2%}; standard deviation={scores.std():.2%}')"
      ],
      "execution_count": 40,
      "outputs": [
        {
          "output_type": "stream",
          "text": [
            "k=1  ; mean_accuracy=96.00%; standard deviation=5.33%\n",
            "k=3  ; mean_accuracy=96.67%; standard deviation=4.47%\n",
            "k=5  ; mean_accuracy=96.67%; standard deviation=4.47%\n",
            "k=7  ; mean_accuracy=96.67%; standard deviation=4.47%\n",
            "k=9  ; mean_accuracy=97.33%; standard deviation=3.27%\n",
            "k=11 ; mean_accuracy=96.67%; standard deviation=4.47%\n",
            "k=13 ; mean_accuracy=98.00%; standard deviation=3.06%\n",
            "k=15 ; mean_accuracy=97.33%; standard deviation=3.27%\n",
            "k=17 ; mean_accuracy=97.33%; standard deviation=3.27%\n",
            "k=19 ; mean_accuracy=97.33%; standard deviation=3.27%\n",
            "k=21 ; mean_accuracy=96.67%; standard deviation=3.33%\n",
            "k=23 ; mean_accuracy=97.33%; standard deviation=3.27%\n",
            "k=25 ; mean_accuracy=96.67%; standard deviation=3.33%\n",
            "k=27 ; mean_accuracy=96.67%; standard deviation=4.47%\n",
            "k=29 ; mean_accuracy=95.33%; standard deviation=4.27%\n"
          ],
          "name": "stdout"
        }
      ]
    },
    {
      "cell_type": "code",
      "metadata": {
        "colab": {
          "base_uri": "https://localhost:8080/",
          "height": 282
        },
        "id": "T4mM_yJyt-eR",
        "outputId": "53a47f59-221d-498c-ad81-8665d2834cba"
      },
      "source": [
        "import seaborn as sn\n",
        "sn.lineplot(x=k_range, y=k_scores)"
      ],
      "execution_count": 42,
      "outputs": [
        {
          "output_type": "execute_result",
          "data": {
            "text/plain": [
              "<matplotlib.axes._subplots.AxesSubplot at 0x7f8f742dec50>"
            ]
          },
          "metadata": {},
          "execution_count": 42
        },
        {
          "output_type": "display_data",
          "data": {
            "image/png": "[encoded data removed]",
            "text/plain": [
              "<Figure size 432x288 with 1 Axes>"
            ]
          },
          "metadata": {
            "needs_background": "light"
          }
        }
      ]
    },
    {
      "cell_type": "code",
      "metadata": {
        "id": "PsaNcuwIyAg5"
      },
      "source": [
        "#GridSearch CV\n",
        "from sklearn.model_selection import GridSearchCV\n",
        "import numpy as np\n",
        "\n",
        "knn = KNeighborsClassifier()\n",
        "grid_param = {'n_neighbors' : np.arange(1,31,2)}"
      ],
      "execution_count": 48,
      "outputs": []
    },
    {
      "cell_type": "code",
      "metadata": {
        "id": "XpIKQl2E0k9H"
      },
      "source": [
        "knn_param_search = GridSearchCV(knn, grid_param, cv=10)"
      ],
      "execution_count": 50,
      "outputs": []
    },
    {
      "cell_type": "code",
      "metadata": {
        "colab": {
          "base_uri": "https://localhost:8080/"
        },
        "id": "8ZUqMc0k0tmU",
        "outputId": "c22cb9e5-12f8-4b56-c5dd-b6523f862331"
      },
      "source": [
        "knn_param_search.fit(X_train, y_train)"
      ],
      "execution_count": 51,
      "outputs": [
        {
          "output_type": "execute_result",
          "data": {
            "text/plain": [
              "GridSearchCV(cv=10, error_score=nan,\n",
              "             estimator=KNeighborsClassifier(algorithm='auto', leaf_size=30,\n",
              "                                            metric='minkowski',\n",
              "                                            metric_params=None, n_jobs=None,\n",
              "                                            n_neighbors=5, p=2,\n",
              "                                            weights='uniform'),\n",
              "             iid='deprecated', n_jobs=None,\n",
              "             param_grid={'n_neighbors': array([ 1,  3,  5,  7,  9, 11, 13, 15, 17, 19, 21, 23, 25, 27, 29])},\n",
              "             pre_dispatch='2*n_jobs', refit=True, return_train_score=False,\n",
              "             scoring=None, verbose=0)"
            ]
          },
          "metadata": {},
          "execution_count": 51
        }
      ]
    },
    {
      "cell_type": "code",
      "metadata": {
        "colab": {
          "base_uri": "https://localhost:8080/"
        },
        "id": "b2IuBshx1VjT",
        "outputId": "aee631f7-3bdf-427b-b1b6-def0452fc0da"
      },
      "source": [
        "knn_param_search.best_params_"
      ],
      "execution_count": 56,
      "outputs": [
        {
          "output_type": "execute_result",
          "data": {
            "text/plain": [
              "{'n_neighbors': 9}"
            ]
          },
          "metadata": {},
          "execution_count": 56
        }
      ]
    },
    {
      "cell_type": "code",
      "metadata": {
        "colab": {
          "base_uri": "https://localhost:8080/"
        },
        "id": "_hw2sM231Yui",
        "outputId": "c2d3abea-a499-4cff-ac1b-58d1866562a1"
      },
      "source": [
        "knn_param_search.best_score_"
      ],
      "execution_count": 58,
      "outputs": [
        {
          "output_type": "execute_result",
          "data": {
            "text/plain": [
              "0.975"
            ]
          },
          "metadata": {},
          "execution_count": 58
        }
      ]
    },
    {
      "cell_type": "code",
      "metadata": {
        "colab": {
          "base_uri": "https://localhost:8080/"
        },
        "id": "MGiwpPn92KPe",
        "outputId": "0f6218ff-17f3-4b14-9b5b-55b97a1dce48"
      },
      "source": [
        "knn_param_search.cv_results_"
      ],
      "execution_count": 62,
      "outputs": [
        {
          "output_type": "execute_result",
          "data": {
            "text/plain": [
              "{'mean_fit_time': array([0.00048072, 0.00045395, 0.0004194 , 0.00041246, 0.00048404,\n",
              "        0.00043559, 0.00045848, 0.00041394, 0.00040622, 0.00044549,\n",
              "        0.00045712, 0.00040946, 0.00040562, 0.00041029, 0.0004225 ]),\n",
              " 'mean_score_time': array([0.00127413, 0.0012444 , 0.00119689, 0.0011497 , 0.001371  ,\n",
              "        0.00119512, 0.00123115, 0.00128863, 0.00124815, 0.00120373,\n",
              "        0.00129707, 0.0012074 , 0.00122852, 0.00120049, 0.00134993]),\n",
              " 'mean_test_score': array([0.95833333, 0.95833333, 0.96666667, 0.96666667, 0.975     ,\n",
              "        0.95      , 0.94166667, 0.93333333, 0.94166667, 0.93333333,\n",
              "        0.93333333, 0.93333333, 0.93333333, 0.93333333, 0.93333333]),\n",
              " 'param_n_neighbors': masked_array(data=[1, 3, 5, 7, 9, 11, 13, 15, 17, 19, 21, 23, 25, 27, 29],\n",
              "              mask=[False, False, False, False, False, False, False, False,\n",
              "                    False, False, False, False, False, False, False],\n",
              "        fill_value='?',\n",
              "             dtype=object),\n",
              " 'params': [{'n_neighbors': 1},\n",
              "  {'n_neighbors': 3},\n",
              "  {'n_neighbors': 5},\n",
              "  {'n_neighbors': 7},\n",
              "  {'n_neighbors': 9},\n",
              "  {'n_neighbors': 11},\n",
              "  {'n_neighbors': 13},\n",
              "  {'n_neighbors': 15},\n",
              "  {'n_neighbors': 17},\n",
              "  {'n_neighbors': 19},\n",
              "  {'n_neighbors': 21},\n",
              "  {'n_neighbors': 23},\n",
              "  {'n_neighbors': 25},\n",
              "  {'n_neighbors': 27},\n",
              "  {'n_neighbors': 29}],\n",
              " 'rank_test_score': array([ 4,  4,  2,  2,  1,  6,  7,  9,  7, 12,  9, 12, 12, 12,  9],\n",
              "       dtype=int32),\n",
              " 'split0_test_score': array([0.91666667, 0.91666667, 0.91666667, 0.91666667, 0.91666667,\n",
              "        0.83333333, 0.83333333, 0.83333333, 0.83333333, 0.75      ,\n",
              "        0.83333333, 0.75      , 0.75      , 0.75      , 0.83333333]),\n",
              " 'split1_test_score': array([1., 1., 1., 1., 1., 1., 1., 1., 1., 1., 1., 1., 1., 1., 1.]),\n",
              " 'split2_test_score': array([0.83333333, 0.91666667, 0.91666667, 0.91666667, 0.91666667,\n",
              "        0.91666667, 0.91666667, 0.91666667, 0.91666667, 0.91666667,\n",
              "        0.91666667, 0.91666667, 0.91666667, 0.91666667, 0.91666667]),\n",
              " 'split3_test_score': array([1.        , 0.91666667, 1.        , 1.        , 1.        ,\n",
              "        0.91666667, 0.91666667, 0.91666667, 0.91666667, 0.91666667,\n",
              "        0.91666667, 0.91666667, 0.91666667, 0.91666667, 0.91666667]),\n",
              " 'split4_test_score': array([0.91666667, 0.91666667, 0.91666667, 0.91666667, 1.        ,\n",
              "        1.        , 0.91666667, 0.91666667, 1.        , 1.        ,\n",
              "        0.91666667, 0.91666667, 0.91666667, 0.91666667, 0.91666667]),\n",
              " 'split5_test_score': array([1., 1., 1., 1., 1., 1., 1., 1., 1., 1., 1., 1., 1., 1., 1.]),\n",
              " 'split6_test_score': array([1.        , 1.        , 1.        , 1.        , 0.91666667,\n",
              "        0.91666667, 0.91666667, 0.91666667, 0.91666667, 0.91666667,\n",
              "        0.91666667, 0.91666667, 0.91666667, 0.91666667, 0.91666667]),\n",
              " 'split7_test_score': array([0.91666667, 0.91666667, 0.91666667, 0.91666667, 1.        ,\n",
              "        0.91666667, 0.91666667, 0.83333333, 0.83333333, 0.83333333,\n",
              "        0.83333333, 0.91666667, 0.91666667, 0.91666667, 0.83333333]),\n",
              " 'split8_test_score': array([1., 1., 1., 1., 1., 1., 1., 1., 1., 1., 1., 1., 1., 1., 1.]),\n",
              " 'split9_test_score': array([1., 1., 1., 1., 1., 1., 1., 1., 1., 1., 1., 1., 1., 1., 1.]),\n",
              " 'std_fit_time': array([1.13421762e-04, 6.28873012e-05, 1.61077999e-05, 9.66110210e-06,\n",
              "        1.87714226e-04, 3.22209280e-05, 3.39166665e-05, 1.38249064e-05,\n",
              "        1.71478492e-05, 9.28636081e-05, 8.99837360e-05, 1.70825539e-05,\n",
              "        1.22478713e-05, 4.00756668e-05, 2.60955534e-05]),\n",
              " 'std_score_time': array([1.14141183e-04, 9.35764343e-05, 4.29059985e-05, 4.84983242e-05,\n",
              "        6.41458399e-04, 5.62284883e-05, 1.00775492e-04, 2.16111902e-04,\n",
              "        3.92672505e-05, 2.30886699e-05, 1.60576216e-04, 5.78677599e-05,\n",
              "        1.58711034e-04, 8.14864898e-05, 1.34457045e-04]),\n",
              " 'std_test_score': array([0.0559017 , 0.04166667, 0.04082483, 0.04082483, 0.03818813,\n",
              "        0.05527708, 0.05335937, 0.06236096, 0.06508541, 0.08164966,\n",
              "        0.06236096, 0.07264832, 0.07264832, 0.07264832, 0.06236096])}"
            ]
          },
          "metadata": {},
          "execution_count": 62
        }
      ]
    },
    {
      "cell_type": "code",
      "metadata": {
        "id": "XIReaUII2WmQ"
      },
      "source": [
        "test_score = pd.Series(knn_param_search.cv_results_['mean_test_score'])\n",
        "param = pd.Series(grid_param['n_neighbors'])"
      ],
      "execution_count": 69,
      "outputs": []
    },
    {
      "cell_type": "code",
      "metadata": {
        "colab": {
          "base_uri": "https://localhost:8080/",
          "height": 282
        },
        "id": "oVzCHygt25HO",
        "outputId": "e0ccc8f9-c0c1-4c34-a146-5330a73d09d2"
      },
      "source": [
        "sn.lineplot( x=param, y=test_score)"
      ],
      "execution_count": 71,
      "outputs": [
        {
          "output_type": "execute_result",
          "data": {
            "text/plain": [
              "<matplotlib.axes._subplots.AxesSubplot at 0x7f8f71f58110>"
            ]
          },
          "metadata": {},
          "execution_count": 71
        },
        {
          "output_type": "display_data",
          "data": {
            "image/png": "[encoded data removed]",
            "text/plain": [
              "<Figure size 432x288 with 1 Axes>"
            ]
          },
          "metadata": {
            "needs_background": "light"
          }
        }
      ]
    }
  ]
}