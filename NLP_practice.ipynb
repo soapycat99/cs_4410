{
  "nbformat": 4,
  "nbformat_minor": 0,
  "metadata": {
    "colab": {
      "name": "Untitled16.ipynb",
      "provenance": [],
      "authorship_tag": "ABX9TyNX5t/wcwolU1TOT+X+BfqP",
      "include_colab_link": true
    },
    "kernelspec": {
      "name": "python3",
      "display_name": "Python 3"
    },
    "language_info": {
      "name": "python"
    }
  },
  "cells": [
    {
      "cell_type": "markdown",
      "metadata": {
        "id": "view-in-github",
        "colab_type": "text"
      },
      "source": [
        "<a href=\"https://colab.research.google.com/github/soapycat99/cs_4410/blob/main/NLP_practice.ipynb\" target=\"_parent\"><img src=\"https://colab.research.google.com/assets/colab-badge.svg\" alt=\"Open In Colab\"/></a>"
      ]
    },
    {
      "cell_type": "markdown",
      "metadata": {
        "id": "Oiv0G27MuGNZ"
      },
      "source": [
        "**12.1(Web Scraping with the Requests and Beautiful Soup Libraries)**"
      ]
    },
    {
      "cell_type": "code",
      "metadata": {
        "id": "KXEfOTMDaWLT"
      },
      "source": [
        "import requests\n",
        "response = requests.get('https://www.python.org')"
      ],
      "execution_count": 2,
      "outputs": []
    },
    {
      "cell_type": "code",
      "metadata": {
        "id": "cm76faBQskfT"
      },
      "source": [
        "from bs4 import BeautifulSoup\n",
        "soup = BeautifulSoup(response.content, 'html5lib')"
      ],
      "execution_count": 5,
      "outputs": []
    },
    {
      "cell_type": "code",
      "metadata": {
        "id": "8F6DPQdWswDy"
      },
      "source": [
        "text = soup.get_text(strip=True)"
      ],
      "execution_count": 7,
      "outputs": []
    },
    {
      "cell_type": "code",
      "metadata": {
        "colab": {
          "base_uri": "https://localhost:8080/"
        },
        "id": "V6Vadh1OtJhR",
        "outputId": "04faf355-b1c7-4d63-f9dc-1f0f79556dc5"
      },
      "source": [
        "len(text)"
      ],
      "execution_count": 11,
      "outputs": [
        {
          "output_type": "execute_result",
          "data": {
            "text/plain": [
              "7213"
            ]
          },
          "metadata": {},
          "execution_count": 11
        }
      ]
    },
    {
      "cell_type": "markdown",
      "metadata": {
        "id": "7pSflb6JuaOt"
      },
      "source": [
        "**12.2(Tokenizing Text and Noun Phrases)**"
      ]
    },
    {
      "cell_type": "code",
      "metadata": {
        "id": "UW2euRjltLC2"
      },
      "source": [
        "from textblob import TextBlob"
      ],
      "execution_count": 12,
      "outputs": []
    },
    {
      "cell_type": "code",
      "metadata": {
        "id": "mwppXBFXun0x"
      },
      "source": [
        "#tokenize sentences and work -> noun phrases\n",
        "blob = TextBlob(text)"
      ],
      "execution_count": 13,
      "outputs": []
    },
    {
      "cell_type": "code",
      "metadata": {
        "colab": {
          "base_uri": "https://localhost:8080/"
        },
        "id": "aTflYzLcvCR2",
        "outputId": "a00841e8-cf3d-4eca-8625-05479646de6e"
      },
      "source": [
        "import nltk\n",
        "\n",
        "nltk.download('stopwords')\n",
        "\n",
        "nltk.download('wordnet')\n",
        "\n",
        "nltk.download('punkt')"
      ],
      "execution_count": 17,
      "outputs": [
        {
          "output_type": "stream",
          "name": "stdout",
          "text": [
            "[nltk_data] Downloading package stopwords to /root/nltk_data...\n",
            "[nltk_data]   Unzipping corpora/stopwords.zip.\n",
            "[nltk_data] Downloading package wordnet to /root/nltk_data...\n",
            "[nltk_data]   Unzipping corpora/wordnet.zip.\n",
            "[nltk_data] Downloading package punkt to /root/nltk_data...\n",
            "[nltk_data]   Unzipping tokenizers/punkt.zip.\n"
          ]
        },
        {
          "output_type": "execute_result",
          "data": {
            "text/plain": [
              "True"
            ]
          },
          "metadata": {},
          "execution_count": 17
        }
      ]
    },
    {
      "cell_type": "code",
      "metadata": {
        "id": "MZAwwQ0uvDO6"
      },
      "source": [
        "from nltk import punkt"
      ],
      "execution_count": 18,
      "outputs": []
    },
    {
      "cell_type": "code",
      "metadata": {
        "colab": {
          "base_uri": "https://localhost:8080/"
        },
        "id": "jK2mvTaKvSke",
        "outputId": "757690d6-e245-40ab-bd83-db6729953e14"
      },
      "source": [
        "blob.sentences"
      ],
      "execution_count": 19,
      "outputs": [
        {
          "output_type": "execute_result",
          "data": {
            "text/plain": [
              "[Sentence(\"Welcome to Python.org{\n",
              "        \"@context\": \"https://schema.org\",\n",
              "        \"@type\": \"WebSite\",\n",
              "        \"url\": \"https://www.python.org/\",\n",
              "        \"potentialAction\": {\n",
              "          \"@type\": \"SearchAction\",\n",
              "          \"target\": \"https://www.python.org/search/?q={search_term_string}\",\n",
              "          \"query-input\": \"required name=search_term_string\"\n",
              "        }\n",
              "      }var _gaq = _gaq || [];\n",
              "     _gaq.push(['_setAccount', 'UA-39055973-1']);\n",
              "     _gaq.push(['_trackPageview']);\n",
              " \n",
              "     (function() {\n",
              "         var ga = document.createElement('script'); ga.type = 'text/javascript'; ga.async = true;\n",
              "         ga.src = ('https:' == document.location.protocol ?\"),\n",
              " Sentence(\"'https://ssl' : 'http://www') + '.google-analytics.com/ga.js';\n",
              "         var s = document.getElementsByTagName('script')[0]; s.parentNode.insertBefore(ga, s);\n",
              "     })();Notice:While JavaScript is not essential for this website, your interaction with the content will be limited.\"),\n",
              " Sentence(\"Please turn JavaScript on for the full experience.Skip to content▼ClosePythonPSFDocsPyPIJobsCommunity▲The Python NetworkDonate≡MenuSearch This SiteGOAASmallerLargerResetSocializeFacebookTwitterChat on IRCAboutApplicationsQuotesGetting StartedHelpPython BrochureDownloadsAll releasesSource codeWindowsmacOSOther PlatformsLicenseAlternative ImplementationsDocumentationDocsAudio/Visual TalksBeginner's GuideDeveloper's GuideFAQNon-English DocsPEP IndexPython BooksPython EssaysCommunityCommunity SurveyDiversityMailing ListsIRCForumsPSF Annual Impact ReportPython ConferencesSpecial Interest GroupsPython LogoPython WikiMerchandiseCommunity AwardsCode of ConductGet InvolvedShared StoriesSuccess StoriesArtsBusinessEducationEngineeringGovernmentScientificSoftware DevelopmentNewsPython NewsPSF NewsletterCommunity NewsPSF NewsPyCon NewsEventsPython EventsUser Group EventsPython Events ArchiveUser Group Events ArchiveSubmit an Event>_Launch Interactive Shell# Python 3: Fibonacci series up to n>>> def fib(n):\n",
              " >>>     a, b = 0, 1\n",
              " >>>     while a < n:\n",
              " >>>         print(a, end=' ')\n",
              " >>>         a, b = b, a+b\n",
              " >>>     print()\n",
              " >>> fib(1000)0 1 1 2 3 5 8 13 21 34 55 89 144 233 377 610 987Functions DefinedThe core of extensible programming is defining functions.\"),\n",
              " Sentence(\"Python allows mandatory and optional arguments, keyword arguments, and even arbitrary argument lists.More about defining functions in Python 3# Python 3: List comprehensions>>> fruits = ['Banana', 'Apple', 'Lime']\n",
              " >>> loud_fruits = [fruit.upper() for fruit in fruits]\n",
              " >>> print(loud_fruits)['BANANA', 'APPLE', 'LIME']# List and the enumerate function>>> list(enumerate(fruits))[(0, 'Banana'), (1, 'Apple'), (2, 'Lime')]Compound Data TypesLists (known as arrays in other languages) are one of the compound data types that Python understands.\"),\n",
              " Sentence(\"Lists can be indexed, sliced and manipulated with other built-in functions.More about lists in Python 3# Python 3: Simple arithmetic>>> 1 / 20.5>>> 2 ** 38>>> 17 / 3# classic division returns a float5.666666666666667>>> 17 // 3# floor division5Intuitive InterpretationCalculations are simple with Python, and expression syntax is straightforward: the operators+,-,*and/work as expected; parentheses()can be used for grouping.More about simple math functions in Python 3.# Python 3: Simple output (with Unicode)>>> print(\"Hello, I'm Python!\"),\n",
              " Sentence(\"\")Hello, I'm Python!# Input, assignment>>> name = input('What is your name?\\n')\n",
              " >>> print('Hi, %s.'\"),\n",
              " Sentence(\"% name)What is your name?\"),\n",
              " Sentence(\"Python\n",
              " Hi, Python.Quick & Easy to LearnExperienced programmers in any other language can pick up Python very quickly, and beginners find the clean syntax and indentation structure easy to learn.Whet your appetitewith our Python 3 overview.# For loop on a list>>> numbers = [2, 4, 6, 8]\n",
              " >>> product = 1\n",
              " >>> for number in numbers:\n",
              " ...    product = product * number\n",
              " ... \n",
              " >>> print('The product is:', product)The product is: 384All the Flow You’d ExpectPython knows the usual control flow statements that other languages speak —if,for,whileandrange— with some of its own twists, of course.More control flow tools in Python 3Python is a programming language that lets you work quicklyand integrate systems more effectively.Learn MoreGet StartedWhether you're new to programming or an experienced developer, it's easy to learn and use Python.Start with our Beginner’s GuideDownloadPython source code and installers are available for download for all versions!Latest:Python 3.9.7DocsDocumentation for Python's standard library, along with tutorials and guides, are available online.docs.python.orgJobsLooking for work or have a Python related position that you're trying to hire for?\"),\n",
              " Sentence(\"Ourrelaunched community-run job boardis the place to go.jobs.python.orgLatest NewsMore2021-09-23Katia Lira Awarded the PSF Community Service Award for Q2 20202021-09-17Tereza Iofciu Awarded the PSF Community Service Award for Q1 20212021-09-07Python 3.10.0rc2 is available2021-09-04Python 3.7.12 and 3.6.15 security updates now available2021-08-30Python 3.9.7 and 3.8.12 are now availableUpcoming EventsMore2021-10-02PyConTW 20212021-10-07PyCon ZA 20212021-10-21PyCon Sweden 20212021-10-23Plone Conference 2021 Online2021-10-28PyData Global 2021Success StoriesMore“We feel much better equipped now to handle the challenges.\"),\n",
              " Sentence(\"And if we run into an issue, we’ll come to Caktus to hammer it out,\" said Stephen Johnston, VP of Engineering, at Force Therapeutics.A Startup Healthcare Tech Firm Is Now Poised for the Futureby Caktus GroupUse Python for…MoreWeb Development:Django,Pyramid,Bottle,Tornado,Flask,web2pyGUI Development:tkInter,PyGObject,PyQt,PySide,Kivy,wxPythonScientific and Numeric:SciPy,Pandas,IPythonSoftware Development:Buildbot,Trac,RoundupSystem Administration:Ansible,Salt,OpenStack,xonsh>>>Python Enhancement Proposals(PEPs): The future of Pythonis discussed here.RSS>>>Python Software FoundationThe mission of the Python Software Foundation is to promote, protect, and advance the Python programming language, and to support and facilitate the growth of a diverse and international community of Python programmers.Learn moreBecome a MemberDonate to the PSF▲Back to TopAboutApplicationsQuotesGetting StartedHelpPython BrochureDownloadsAll releasesSource codeWindowsmacOSOther PlatformsLicenseAlternative ImplementationsDocumentationDocsAudio/Visual TalksBeginner's GuideDeveloper's GuideFAQNon-English DocsPEP IndexPython BooksPython EssaysCommunityCommunity SurveyDiversityMailing ListsIRCForumsPSF Annual Impact ReportPython ConferencesSpecial Interest GroupsPython LogoPython WikiMerchandiseCommunity AwardsCode of ConductGet InvolvedShared StoriesSuccess StoriesArtsBusinessEducationEngineeringGovernmentScientificSoftware DevelopmentNewsPython NewsPSF NewsletterCommunity NewsPSF NewsPyCon NewsEventsPython EventsUser Group EventsPython Events ArchiveUser Group Events ArchiveSubmit an EventContributingDeveloper's GuideIssue Trackerpython-dev listCore MentorshipReport a Security Issue▲Back to TopHelp &GeneralContactDiversityInitiativesSubmit Website BugStatusCopyright ©2001-2021.Python Software FoundationLegal StatementsPrivacy PolicyPowered by Herokuwindow.jQuery || document.write('<script src=\"/static/js/libs/jquery-1.8.2.min.js\"><\\/script>')window.jQuery || document.write('<script src=\"/static/js/libs/jquery-ui-1.12.1.min.js\"><\\/script>')\")]"
            ]
          },
          "metadata": {},
          "execution_count": 19
        }
      ]
    },
    {
      "cell_type": "code",
      "metadata": {
        "colab": {
          "base_uri": "https://localhost:8080/"
        },
        "id": "iiq-TUzevUcH",
        "outputId": "624ff195-b674-42fa-8a09-894808f9aa0e"
      },
      "source": [
        "blob.words"
      ],
      "execution_count": 20,
      "outputs": [
        {
          "output_type": "execute_result",
          "data": {
            "text/plain": [
              "WordList(['Welcome', 'to', 'Python.org', 'context', 'https', 'schema.org', 'type', 'WebSite', 'url', 'https', 'www.python.org', 'potentialAction', 'type', 'SearchAction', 'target', 'https', 'www.python.org/search', 'q', 'search_term_string', 'query-input', 'required', 'name=search_term_string', 'var', 'gaq', 'gaq', 'gaq.push', \"'_setAccount\", \"'UA-39055973-1\", 'gaq.push', \"'_trackPageview\", 'function', 'var', 'ga', 'document.createElement', \"'script\", 'ga.type', \"'text/javascript\", 'ga.async', 'true', 'ga.src', \"'https\", 'document.location.protocol', \"'https\", 'ssl', \"'http\", 'www', \"'.google-analytics.com/ga.js\", 'var', 's', 'document.getElementsByTagName', \"'script\", '0', 's.parentNode.insertBefore', 'ga', 's', 'Notice', 'While', 'JavaScript', 'is', 'not', 'essential', 'for', 'this', 'website', 'your', 'interaction', 'with', 'the', 'content', 'will', 'be', 'limited', 'Please', 'turn', 'JavaScript', 'on', 'for', 'the', 'full', 'experience.Skip', 'to', 'content▼ClosePythonPSFDocsPyPIJobsCommunity▲The', 'Python', 'NetworkDonate≡MenuSearch', 'This', 'SiteGOAASmallerLargerResetSocializeFacebookTwitterChat', 'on', 'IRCAboutApplicationsQuotesGetting', 'StartedHelpPython', 'BrochureDownloadsAll', 'releasesSource', 'codeWindowsmacOSOther', 'PlatformsLicenseAlternative', 'ImplementationsDocumentationDocsAudio/Visual', 'TalksBeginner', \"'s\", 'GuideDeveloper', \"'s\", 'GuideFAQNon-English', 'DocsPEP', 'IndexPython', 'BooksPython', 'EssaysCommunityCommunity', 'SurveyDiversityMailing', 'ListsIRCForumsPSF', 'Annual', 'Impact', 'ReportPython', 'ConferencesSpecial', 'Interest', 'GroupsPython', 'LogoPython', 'WikiMerchandiseCommunity', 'AwardsCode', 'of', 'ConductGet', 'InvolvedShared', 'StoriesSuccess', 'StoriesArtsBusinessEducationEngineeringGovernmentScientificSoftware', 'DevelopmentNewsPython', 'NewsPSF', 'NewsletterCommunity', 'NewsPSF', 'NewsPyCon', 'NewsEventsPython', 'EventsUser', 'Group', 'EventsPython', 'Events', 'ArchiveUser', 'Group', 'Events', 'ArchiveSubmit', 'an', 'Event', 'Launch', 'Interactive', 'Shell', 'Python', '3', 'Fibonacci', 'series', 'up', 'to', 'n', 'def', 'fib', 'n', 'a', 'b', '0', '1', 'while', 'a', 'n', 'print', 'a', 'end', 'a', 'b', 'b', 'a+b', 'print', 'fib', '1000', '0', '1', '1', '2', '3', '5', '8', '13', '21', '34', '55', '89', '144', '233', '377', '610', '987Functions', 'DefinedThe', 'core', 'of', 'extensible', 'programming', 'is', 'defining', 'functions', 'Python', 'allows', 'mandatory', 'and', 'optional', 'arguments', 'keyword', 'arguments', 'and', 'even', 'arbitrary', 'argument', 'lists.More', 'about', 'defining', 'functions', 'in', 'Python', '3', 'Python', '3', 'List', 'comprehensions', 'fruits', \"'Banana\", \"'Apple\", \"'Lime\", 'loud_fruits', 'fruit.upper', 'for', 'fruit', 'in', 'fruits', 'print', 'loud_fruits', \"'BANANA\", \"'APPLE\", \"'LIME\", 'List', 'and', 'the', 'enumerate', 'function', 'list', 'enumerate', 'fruits', '0', \"'Banana\", '1', \"'Apple\", '2', \"'Lime\", 'Compound', 'Data', 'TypesLists', 'known', 'as', 'arrays', 'in', 'other', 'languages', 'are', 'one', 'of', 'the', 'compound', 'data', 'types', 'that', 'Python', 'understands', 'Lists', 'can', 'be', 'indexed', 'sliced', 'and', 'manipulated', 'with', 'other', 'built-in', 'functions.More', 'about', 'lists', 'in', 'Python', '3', 'Python', '3', 'Simple', 'arithmetic', '1', '20.5', '2', '38', '17', '3', 'classic', 'division', 'returns', 'a', 'float5.666666666666667', '17', '3', 'floor', 'division5Intuitive', 'InterpretationCalculations', 'are', 'simple', 'with', 'Python', 'and', 'expression', 'syntax', 'is', 'straightforward', 'the', 'operators', 'and/work', 'as', 'expected', 'parentheses', 'can', 'be', 'used', 'for', 'grouping.More', 'about', 'simple', 'math', 'functions', 'in', 'Python', '3', 'Python', '3', 'Simple', 'output', 'with', 'Unicode', 'print', 'Hello', 'I', \"'m\", 'Python', 'Hello', 'I', \"'m\", 'Python', 'Input', 'assignment', 'name', 'input', \"'What\", 'is', 'your', 'name', 'n', 'print', \"'Hi\", 's', 'name', 'What', 'is', 'your', 'name', 'Python', 'Hi', 'Python.Quick', 'Easy', 'to', 'LearnExperienced', 'programmers', 'in', 'any', 'other', 'language', 'can', 'pick', 'up', 'Python', 'very', 'quickly', 'and', 'beginners', 'find', 'the', 'clean', 'syntax', 'and', 'indentation', 'structure', 'easy', 'to', 'learn.Whet', 'your', 'appetitewith', 'our', 'Python', '3', 'overview', 'For', 'loop', 'on', 'a', 'list', 'numbers', '2', '4', '6', '8', 'product', '1', 'for', 'number', 'in', 'numbers', 'product', 'product', 'number', 'print', \"'The\", 'product', 'is', 'product', 'The', 'product', 'is', '384All', 'the', 'Flow', 'You', '’', 'd', 'ExpectPython', 'knows', 'the', 'usual', 'control', 'flow', 'statements', 'that', 'other', 'languages', 'speak', '—if', 'for', 'whileandrange—', 'with', 'some', 'of', 'its', 'own', 'twists', 'of', 'course.More', 'control', 'flow', 'tools', 'in', 'Python', '3Python', 'is', 'a', 'programming', 'language', 'that', 'lets', 'you', 'work', 'quicklyand', 'integrate', 'systems', 'more', 'effectively.Learn', 'MoreGet', 'StartedWhether', 'you', \"'re\", 'new', 'to', 'programming', 'or', 'an', 'experienced', 'developer', 'it', \"'s\", 'easy', 'to', 'learn', 'and', 'use', 'Python.Start', 'with', 'our', 'Beginner', '’', 's', 'GuideDownloadPython', 'source', 'code', 'and', 'installers', 'are', 'available', 'for', 'download', 'for', 'all', 'versions', 'Latest', 'Python', '3.9.7DocsDocumentation', 'for', 'Python', \"'s\", 'standard', 'library', 'along', 'with', 'tutorials', 'and', 'guides', 'are', 'available', 'online.docs.python.orgJobsLooking', 'for', 'work', 'or', 'have', 'a', 'Python', 'related', 'position', 'that', 'you', \"'re\", 'trying', 'to', 'hire', 'for', 'Ourrelaunched', 'community-run', 'job', 'boardis', 'the', 'place', 'to', 'go.jobs.python.orgLatest', 'NewsMore2021-09-23Katia', 'Lira', 'Awarded', 'the', 'PSF', 'Community', 'Service', 'Award', 'for', 'Q2', '20202021-09-17Tereza', 'Iofciu', 'Awarded', 'the', 'PSF', 'Community', 'Service', 'Award', 'for', 'Q1', '20212021-09-07Python', '3.10.0rc2', 'is', 'available2021-09-04Python', '3.7.12', 'and', '3.6.15', 'security', 'updates', 'now', 'available2021-08-30Python', '3.9.7', 'and', '3.8.12', 'are', 'now', 'availableUpcoming', 'EventsMore2021-10-02PyConTW', '20212021-10-07PyCon', 'ZA', '20212021-10-21PyCon', 'Sweden', '20212021-10-23Plone', 'Conference', '2021', 'Online2021-10-28PyData', 'Global', '2021Success', 'StoriesMore', '“', 'We', 'feel', 'much', 'better', 'equipped', 'now', 'to', 'handle', 'the', 'challenges', 'And', 'if', 'we', 'run', 'into', 'an', 'issue', 'we', '’', 'll', 'come', 'to', 'Caktus', 'to', 'hammer', 'it', 'out', 'said', 'Stephen', 'Johnston', 'VP', 'of', 'Engineering', 'at', 'Force', 'Therapeutics.A', 'Startup', 'Healthcare', 'Tech', 'Firm', 'Is', 'Now', 'Poised', 'for', 'the', 'Futureby', 'Caktus', 'GroupUse', 'Python', 'for…MoreWeb', 'Development', 'Django', 'Pyramid', 'Bottle', 'Tornado', 'Flask', 'web2pyGUI', 'Development', 'tkInter', 'PyGObject', 'PyQt', 'PySide', 'Kivy', 'wxPythonScientific', 'and', 'Numeric', 'SciPy', 'Pandas', 'IPythonSoftware', 'Development', 'Buildbot', 'Trac', 'RoundupSystem', 'Administration', 'Ansible', 'Salt', 'OpenStack', 'xonsh', 'Python', 'Enhancement', 'Proposals', 'PEPs', 'The', 'future', 'of', 'Pythonis', 'discussed', 'here.RSS', 'Python', 'Software', 'FoundationThe', 'mission', 'of', 'the', 'Python', 'Software', 'Foundation', 'is', 'to', 'promote', 'protect', 'and', 'advance', 'the', 'Python', 'programming', 'language', 'and', 'to', 'support', 'and', 'facilitate', 'the', 'growth', 'of', 'a', 'diverse', 'and', 'international', 'community', 'of', 'Python', 'programmers.Learn', 'moreBecome', 'a', 'MemberDonate', 'to', 'the', 'PSF▲Back', 'to', 'TopAboutApplicationsQuotesGetting', 'StartedHelpPython', 'BrochureDownloadsAll', 'releasesSource', 'codeWindowsmacOSOther', 'PlatformsLicenseAlternative', 'ImplementationsDocumentationDocsAudio/Visual', 'TalksBeginner', \"'s\", 'GuideDeveloper', \"'s\", 'GuideFAQNon-English', 'DocsPEP', 'IndexPython', 'BooksPython', 'EssaysCommunityCommunity', 'SurveyDiversityMailing', 'ListsIRCForumsPSF', 'Annual', 'Impact', 'ReportPython', 'ConferencesSpecial', 'Interest', 'GroupsPython', 'LogoPython', 'WikiMerchandiseCommunity', 'AwardsCode', 'of', 'ConductGet', 'InvolvedShared', 'StoriesSuccess', 'StoriesArtsBusinessEducationEngineeringGovernmentScientificSoftware', 'DevelopmentNewsPython', 'NewsPSF', 'NewsletterCommunity', 'NewsPSF', 'NewsPyCon', 'NewsEventsPython', 'EventsUser', 'Group', 'EventsPython', 'Events', 'ArchiveUser', 'Group', 'Events', 'ArchiveSubmit', 'an', 'EventContributingDeveloper', \"'s\", 'GuideIssue', 'Trackerpython-dev', 'listCore', 'MentorshipReport', 'a', 'Security', 'Issue▲Back', 'to', 'TopHelp', 'GeneralContactDiversityInitiativesSubmit', 'Website', 'BugStatusCopyright', '©2001-2021.Python', 'Software', 'FoundationLegal', 'StatementsPrivacy', 'PolicyPowered', 'by', 'Herokuwindow.jQuery', 'document.write', 'script', 'src', 'static/js/libs/jquery-1.8.2.min.js', 'script', 'window.jQuery', 'document.write', 'script', 'src', 'static/js/libs/jquery-ui-1.12.1.min.js', 'script'])"
            ]
          },
          "metadata": {},
          "execution_count": 20
        }
      ]
    },
    {
      "cell_type": "code",
      "metadata": {
        "colab": {
          "base_uri": "https://localhost:8080/"
        },
        "id": "C-cq_CDBvYOJ",
        "outputId": "756f5ff8-bc29-47e9-a137-bef100818ca1"
      },
      "source": [
        "nltk.download('brown')\n",
        "blob.noun_phrases"
      ],
      "execution_count": 25,
      "outputs": [
        {
          "output_type": "stream",
          "name": "stdout",
          "text": [
            "[nltk_data] Downloading package brown to /root/nltk_data...\n",
            "[nltk_data]   Package brown is already up-to-date!\n"
          ]
        },
        {
          "output_type": "execute_result",
          "data": {
            "text/plain": [
              "WordList(['welcome', 'python.org', '@ context', '@ type', 'website', '@ type', 'searchaction', 'q= {', '} } var _gaq = _gaq || [ ]', \"[ '_setaccount\", \"[ '_trackpageview\", '{ var ga = document.createelement', \"ga.type = 'text/javascript\", 'ga.async =', 'ga.src =', '== document.location.protocol', \"+ '.google-analytics.com/ga.js\", 'var s = document.getelementsbytagname', 'notice', 'javascript', 'please', 'javascript', 'full experience.skip', 'python networkdonate≡menusearch', 'sitegoaasmallerlargerresetsocializefacebooktwitterchat', 'ircaboutapplicationsquotesgetting startedhelppython brochuredownloadsall', 'releasessource codewindowsmacosother', 'platformslicensealternative implementationsdocumentationdocsaudio/visual talksbeginner', 'guidedeveloper', 'guidefaqnon-english docspep indexpython bookspython essayscommunitycommunity surveydiversitymailing listsircforumspsf annual impact reportpython conferencesspecial interest groupspython logopython wikimerchandisecommunity awardscode', 'conductget involvedshared storiessuccess storiesartsbusinesseducationengineeringgovernmentscientificsoftware developmentnewspython newspsf newslettercommunity newspsf newspycon newseventspython eventsuser', 'eventspython events archiveuser', 'events archivesubmit', 'event', '> _launch', 'interactive shell', 'python', 'fibonacci', 'n > > > def fib', '> > >', 'b =', '> > >', '< n', '> > > print', '> > >', 'b = b', 'a+b > > > print', '> > > fib', 'definedthe', 'python', 'optional arguments', 'keyword arguments', 'arbitrary argument lists.more', 'python', 'python', 'list', \"comprehensions > > > fruits = [ 'banana\", '] > > > loud_fruits = [ fruit.upper', 'fruits ] > > > print', \"[ 'banana\", '] #', 'list', 'enumerate function > > > list', 'compound data typeslists', 'compound data types', 'python', 'lists', 'built-in functions.more', 'python', 'python', 'simple', 'arithmetic > > >', '> > >', '> > >', 'classic division returns', 'float5.666666666666667 > > >', '# floor division5intuitive', 'interpretationcalculations', 'python', 'expression syntax', 'simple math functions', 'python', '3. #', 'python', 'simple', 'unicode', '> > > print', 'hello', 'python', 'hello', 'python', 'input', 'assignment > > > name = input', '> > > print', '% s', '% name', 'python hi', 'python.quick', 'easy', 'learnexperienced', 'python', 'clean syntax', 'indentation structure', 'python', 'overview. #', 'list > > > numbers = [', '] > > > product =', '> > >', '... product = product * number ... > > > print', \"'the product\", 'flow', '’ d', 'expectpython', 'usual control flow statements', 'own twists', 'course.more control flow tools', 'python', 'moreget startedwhether', 'python.start', 'beginner', '’ s', 'guidedownloadpython', 'source code', 'latest', 'python', 'python', 'standard library', 'python', 'ourrelaunched', 'community-run job boardis', 'newsmore2021-09-23katia lira awarded', 'psf', 'community service award', 'q2', 'iofciu awarded', 'psf', 'community service award', 'q1', '20212021-09-07python 3.10.0rc2', 'available2021-09-04python 3.7.12', '3.6.15 security updates', 'available2021-08-30python 3.9.7', 'eventsmore2021-10-02pycontw', 'za', 'sweden', '20212021-10-23plone conference', 'online2021-10-28pydata global', 'storiesmore', '’ ll', 'caktus', 'stephen johnston', 'vp', 'engineering', 'therapeutics.a startup healthcare tech', 'poised', 'futureby caktus groupuse python', 'for…moreweb development', 'django', 'pyramid', 'bottle', 'tornado', 'flask', 'web2pygui development', 'pygobject', 'pyqt', 'pyside', 'kivy', 'numeric', 'scipy', 'pandas', 'ipythonsoftware', 'buildbot', 'trac', 'roundupsystem', 'ansible', 'openstack', 'xonsh > > >', 'python enhancement proposals', 'peps', 'pythonis', 'here.rss > > >', 'python software foundationthe', 'python software', 'python', 'international community', 'python', 'programmers.learn morebecome', 'memberdonate', 'psf▲back', 'topaboutapplicationsquotesgetting startedhelppython brochuredownloadsall', 'releasessource codewindowsmacosother', 'platformslicensealternative implementationsdocumentationdocsaudio/visual talksbeginner', 'guidedeveloper', 'guidefaqnon-english docspep indexpython bookspython essayscommunitycommunity surveydiversitymailing listsircforumspsf annual impact reportpython conferencesspecial interest groupspython logopython wikimerchandisecommunity awardscode', 'conductget involvedshared storiessuccess storiesartsbusinesseducationengineeringgovernmentscientificsoftware developmentnewspython newspsf newslettercommunity newspsf newspycon newseventspython eventsuser', 'eventspython events archiveuser', 'events archivesubmit', 'eventcontributingdeveloper', 'guideissue trackerpython-dev', 'mentorshipreport', 'issue▲back', 'tophelp', 'generalcontactdiversityinitiativessubmit website bugstatuscopyright', 'software foundationlegal statementsprivacy policypowered', 'herokuwindow.jquery', '|| document.write', '< script src=', '> < \\\\/script >', 'window.jquery || document.write', '< script src=', '> < \\\\/script >'])"
            ]
          },
          "metadata": {},
          "execution_count": 25
        }
      ]
    },
    {
      "cell_type": "markdown",
      "metadata": {
        "id": "CZIed5NRv0X0"
      },
      "source": [
        "**12.3(Sentiment of a News Article)**"
      ]
    },
    {
      "cell_type": "code",
      "metadata": {
        "id": "ALrKts4Rvgyd"
      },
      "source": [
        "response = requests.get('https://en.wikipedia.org/wiki/Troy_Trojans')"
      ],
      "execution_count": 70,
      "outputs": []
    },
    {
      "cell_type": "code",
      "metadata": {
        "id": "kgt50houwSZS"
      },
      "source": [
        "soup = BeautifulSoup(response.content, 'html.parser')\n",
        "text = soup.get_text(strip=True)"
      ],
      "execution_count": 71,
      "outputs": []
    },
    {
      "cell_type": "code",
      "metadata": {
        "id": "XMBfh9p0wkCf"
      },
      "source": [
        "blob = TextBlob(text)"
      ],
      "execution_count": 72,
      "outputs": []
    },
    {
      "cell_type": "code",
      "metadata": {
        "colab": {
          "base_uri": "https://localhost:8080/"
        },
        "id": "sZ4W_bNTxZcn",
        "outputId": "16263f29-9069-4b3e-d0de-76ab8ae9684c"
      },
      "source": [
        "blob.sentences"
      ],
      "execution_count": 73,
      "outputs": [
        {
          "output_type": "execute_result",
          "data": {
            "text/plain": [
              "[Sentence(\"Troy Trojans - Wikipediadocument.documentElement.className=\"client-js\";RLCONF={\"wgBreakFrames\":!1,\"wgSeparatorTransformTable\":[\"\",\"\"],\"wgDigitTransformTable\":[\"\",\"\"],\"wgDefaultDateFormat\":\"dmy\",\"wgMonthNames\":[\"\",\"January\",\"February\",\"March\",\"April\",\"May\",\"June\",\"July\",\"August\",\"September\",\"October\",\"November\",\"December\"],\"wgRequestId\":\"2f35b483-b4f6-49c7-a98d-4b78533f07cb\",\"wgCSPNonce\":!1,\"wgCanonicalNamespace\":\"\",\"wgCanonicalSpecialPageName\":!1,\"wgNamespaceNumber\":0,\"wgPageName\":\"Troy_Trojans\",\"wgTitle\":\"Troy Trojans\",\"wgCurRevisionId\":1037635778,\"wgRevisionId\":1037635778,\"wgArticleId\":46347394,\"wgIsArticle\":!0,\"wgIsRedirect\":!1,\"wgAction\":\"view\",\"wgUserName\":null,\"wgUserGroups\":[\"*\"],\"wgCategories\":[\"CS1 maint: archived copy as title\",\"Troy Trojans\"],\"wgPageContentLanguage\":\"en\",\"wgPageContentModel\":\"wikitext\",\"wgRelevantPageName\":\"Troy_Trojans\",\"wgRelevantArticleId\":46347394,\"wgIsProbablyEditable\":!0,\"wgRelevantPageIsProbablyEditable\":!0,\"wgRestrictionEdit\":[],\"wgRestrictionMove\":[],\n",
              " \"wgFlaggedRevsParams\":{\"tags\":{\"status\":{\"levels\":-1}}},\"wgMediaViewerOnClick\":!0,\"wgMediaViewerEnabledByDefault\":!0,\"wgPopupsFlags\":10,\"wgVisualEditor\":{\"pageLanguageCode\":\"en\",\"pageLanguageDir\":\"ltr\",\"pageVariantFallbacks\":\"en\"},\"wgMFDisplayWikibaseDescriptions\":{\"search\":!0,\"nearby\":!0,\"watchlist\":!0,\"tagline\":!1},\"wgWMESchemaEditAttemptStepOversample\":!1,\"wgULSCurrentAutonym\":\"English\",\"wgNoticeProject\":\"wikipedia\",\"wgEditSubmitButtonLabelPublish\":!0,\"wgULSPosition\":\"interlanguage\",\"wgULSisCompactLinksEnabled\":!0,\"wgGENewcomerTasksGuidanceEnabled\":!0,\"wgGEAskQuestionEnabled\":!1,\"wgGELinkRecommendationsFrontendEnabled\":!1,\"wgCentralAuthMobileDomain\":!1,\"wgWikibaseItemId\":\"Q7887406\"};RLSTATE={\"ext.globalCssJs.user.styles\":\"ready\",\"site.styles\":\"ready\",\"noscript\":\"ready\",\"user.styles\":\"ready\",\"ext.globalCssJs.user\":\"ready\",\"user\":\"ready\",\"user.options\":\"loading\",\"ext.cite.styles\":\"ready\",\"skins.vector.styles.legacy\":\"ready\",\"jquery.tablesorter.styles\":\n",
              " \"ready\",\"jquery.makeCollapsible.styles\":\"ready\",\"ext.visualEditor.desktopArticleTarget.noscript\":\"ready\",\"ext.uls.interlanguage\":\"ready\",\"ext.wikimediaBadges\":\"ready\",\"wikibase.client.init\":\"ready\"};RLPAGEMODULES=[\"ext.cite.ux-enhancements\",\"site\",\"mediawiki.page.ready\",\"jquery.tablesorter\",\"jquery.makeCollapsible\",\"mediawiki.toc\",\"skins.vector.legacy.js\",\"ext.gadget.ReferenceTooltips\",\"ext.gadget.charinsert\",\"ext.gadget.extra-toolbar-buttons\",\"ext.gadget.refToolbar\",\"ext.gadget.switcher\",\"mmv.head\",\"mmv.bootstrap.autostart\",\"ext.popups\",\"ext.visualEditor.desktopArticleTarget.init\",\"ext.visualEditor.targetLoader\",\"ext.eventLogging\",\"ext.wikimediaEvents\",\"ext.navigationTiming\",\"ext.uls.compactlinks\",\"ext.uls.interface\",\"ext.cx.eventlogging.campaigns\",\"ext.centralNotice.geoIP\",\"ext.centralNotice.startUp\",\"ext.centralauth.centralautologin\",\"ext.growthExperiments.SuggestedEditSession\"];(RLQ=window.RLQ||[]).push(function(){mw.loader.implement(\"user.options@1hzgi\",function($,jQuery,require,module){/*@nomin*/mw.user.tokens.set({\"patrolToken\":\"+\\\\\",\"watchToken\":\"+\\\\\",\"csrfToken\":\"+\\\\\"});\n",
              " });});Troy TrojansFrom Wikipedia, the free encyclopediaJump to navigationJump to search.mw-parser-output .hatnote{font-style:italic}.mw-parser-output div.hatnote{padding-left:1.6em;margin-bottom:0.5em}.mw-parser-output .hatnote i{font-style:normal}.mw-parser-output .hatnote+link+.hatnote{margin-top:-0.5em}For the defunct professionalbaseballteam, seeTroy Trojans (MLB team).\"),\n",
              " Sentence(\"For the defunct minor league baseball team fromTroy, New York, seeTroy Trojans (minor league baseball).\"),\n",
              " Sentence(\"For the defunct minor league baseball team fromTroy, Alabama, seeTroy Tigers.Troy TrojansUniversityTroy UniversityConferenceSun Belt ConferenceNCAADivision I(FBS)Athletic directorBrent JonesLocationTroy, AlabamaVarsity teams15Football stadiumVeterans Memorial StadiumBasketball arenaTrojan ArenaBaseball stadiumRiddle-Pace FieldSoftball stadiumTroy Softball ComplexSoccer stadiumColley Track/Soccer ComplexMascotT-RoyNickname\"Trojans\"Fight songTrojans, One and AllColorsCardinal, silver, and black[1].mw-parser-output .legend{page-break-inside:avoid;break-inside:avoid-column}.mw-parser-output .legend-color{display:inline-block;min-width:1.25em;height:1.25em;line-height:1.25;margin:1px 0;text-align:center;border:1px solid black;background-color:transparent;color:black}.mw-parser-output .legend-text{}Websitewww.troytrojans.comTheTroy Trojansare the sports teams ofTroy University.\"),\n",
              " Sentence(\"They began playing in theNCAA'sDivision I-Ain2001, became afootballonly member of theSun Belt Conferencein 2004, and joined that conference for all other sports in 2005.\"),\n",
              " Sentence(\"Troy University's athletics nickname was the Red Wave until the early 1970s when the student body voted to change the name to Trojans.Prior to becoming a member of NCAA Division One athletics in 1993, Troy University was a member of theGulf South Conferenceof the NCAA Division II ranks.\"),\n",
              " Sentence(\"At the time, Troy's primary rivals wereJacksonville State University, Livingston University (now theUniversity of West Alabama), and theUniversity of North Alabama.\"),\n",
              " Sentence(\"The rivalry between Troy and Jacksonville State was arguably the fiercest of those.\"),\n",
              " Sentence(\"However, since Troy University moved to Division I-A participation in football and because Troy and JSU no longer share the same conference affiliation, this once heated rivalry has cooled significantly.\"),\n",
              " Sentence(\"Troy has Sun Belt rivalries with all East Division schools (Appalachian State, Coastal Carolina, Georgia Southern, Georgia State, and South Alabama).\"),\n",
              " Sentence(\"Currently, the Trojans' most prominent rival in all sports is their main Sun Belt rival,South Alabama.Contents1Sports sponsored1.1Men1.1.1Football1.1.2Basketball1.1.3Baseball1.1.4Golf1.1.5Tennis1.1.6Track & Field1.1.7Cross Country1.2Women1.2.1Basketball1.2.2Softball1.2.3Volleyball1.2.4Tennis1.2.5Women's Golf1.2.6Cross Country2Defunct Programs2.1Rodeo3National Championships3.1Team3.2Individual4Facilities5References6External linksSports sponsored[edit]A member of theSun Belt Conference, Troy sponsors teams in eight men's and nine women'sNCAAsanctioned sports.Men's sportsWomen's sportsBaseballBasketballBasketballCross countryCross countryGolfFootballSoccerGolfSoftballTennisTennisTrack & field†Track & field†Volleyball† – Track and field includes both indoor and outdoor.Men[edit]Football[edit]Main article:Troy Trojans footballTroy University has fielded a football team continuously since 1946.\"),\n",
              " Sentence(\"Troy has won national championships at theNAIAlevel in 1968 and at theNCAA Division IIlevel in 1984 and 1987.Troy Trojans football playerGary Banksduring a game in October 2007Troy University football began playing in the NCAA's Division I-A in 2001, became a football only member of theSun Belt Conferencein 2004, and joined that conference for all other sports in 2005.\"),\n",
              " Sentence(\"In 2001, Troy defeatedMississippi State UniversityinStarkville, Mississippito notch the Trojans' first victory over aBCSlevel program.\"),\n",
              " Sentence(\"On September 9, 2004, the Trojans garnered the program's first win over a ranked opponent when they defeated then #17 rankedMissouri, 24-14, upsetting former Heisman-hopefulBrad Smith's Heisman Trophy chances.\"),\n",
              " Sentence(\"Three years later in 2007, the Trojans routedOklahoma Stateat home by a score of 41-23.\"),\n",
              " Sentence(\"The Trojan football team made its first bowl game appearance in theSilicon Valley Football ClassicagainstNorthern Illinois Universityon December 30, 2004, but lost.\"),\n",
              " Sentence(\"The Trojans won their first bowl game on December 20, 2006 at theNew Orleans BowlagainstRice Universityby a score of 41-17.\"),\n",
              " Sentence(\"The football program won five straight Sun Belt titles from 2006 to 2010, finishing their run in 2010 with a New Orleans Bowl win overOhioby a score of 48-21.\"),\n",
              " Sentence(\"At the end of the 2014 season, longtime head coachLarry Blakeneyretired from coaching.\"),\n",
              " Sentence(\"He finished his career at Troy with a 178-113-1 record, 8 conference championships, and 5 bowl appearances.\"),\n",
              " Sentence(\"He was inducted into theAlabama Sports Hall of Famein 2009.Current head coachNeal Brownwas hired following Blakeney's retirement.\"),\n",
              " Sentence(\"After starting his first season ever as a head coach in 2015, going 4-8, he led a monumental turnaround for the football program in the 2016 season, as the Trojan finished 10-3, including a 28-23 win overOhioin theDollar General Bowl.\"),\n",
              " Sentence(\"During that season, Troy cracked theAP Top 25for the first time since the program joined the FBS in 2001.\"),\n",
              " Sentence(\"Troy was also the first football program in theSun Belt Conferenceto ever receive a Top 25 ranking.The Trojans football team has won three national titles: 1968 (NAIA), 1984 (Div.\"),\n",
              " Sentence(\"II), and 1987 (Div.\"),\n",
              " Sentence(\"II).Basketball[edit]Main article:Troy Trojans men's basketballThe Troy University men's basketball team is currently under the direction of head coachPhil Cunningham.Don Maestriis currently the winningest coach in Troy University history.The Trojans' last NCAA Tournament appearance was in the2003 NCAA Men's Division I Basketball Tournamentas a 14 seed after winning the 2003Atlantic Sun Conferencetournament.\"),\n",
              " Sentence(\"The Trojans' faced 3-seedXavierin the first round, but the Trojans lost 71–59.\"),\n",
              " Sentence(\"They finished the 2003 season with a 26-6 overall record.\"),\n",
              " Sentence(\"In their most recent post-season appearance in 2010, the Trojans won theSun Belt Conferenceregular-season title but lost in the conference tournament final.\"),\n",
              " Sentence(\"Because of this, Troy made its way back to theNITfor the second time since 2004, falling toOle Missin the first round.The Trojan basketball team is recognized in recent Division I Basketball history for leading the nation in three-pointers from 2004 to 2006, making 1068 three-pointers over the course of 89 games (11.66 per game) during those three seasons.\"),\n",
              " Sentence(\"Troy's most famous claim to fame, however, is their game againstDeVry Instituteof Atlanta on January 12, 1992 when the Trojans came out victorious by the NCAA-record score of 258–141.\"),\n",
              " Sentence(\"This is currently the highest scoring game in NCAA basketball history.\"),\n",
              " Sentence(\"[2]Baseball[edit]Main article:Troy Trojans baseballFormer Trojans baseball player Shohei Fujita attempting to turn adouble playin a baseball game in March 2008The Troy University baseball team won two Division II national championships in 1986 and 1987 under the leadership of baseball coach,Chase Riddle.\"),\n",
              " Sentence(\"One of Troy's most significant victories in baseball came in April 1998 when the Trojans knocked off the #3 nationally rankedAlabama Crimson Tideby a score of 8-4 atRiddle-Pace Fieldon the Troy campus.In 2006, Sun Belt Conference Coach of the YearBobby Pierceled the Trojans to a regular season conference title, conference tournament title, and an NCAA Regional appearance with an overall record of 47–16.\"),\n",
              " Sentence(\"The Men of Troy were the 2-seed in the Tuscaloosa Regional in 2006, defeating theSouthern Miss Golden Eaglestwice, but were eliminated by theAlabama Crimson Tidein the championship game.\"),\n",
              " Sentence(\"Following the season, Jared Keel, Mike Felix, and Tom King were selected in theMLBdraft.\"),\n",
              " Sentence(\"Troy's highest rank of the season was #29 by theNCBWA.In 2007 the Trojans went 34–27, finishing in a tie for second in theSun Belt Conference, and were selected as a number three seed in the Oxford Regional hosted byOle Miss.\"),\n",
              " Sentence(\"The Trojans were defeated bySouthern MissandSam Houston Statein consecutive games and eliminated from the regional.In 2011, the Trojans struck again by winning the Sun Belt regular season title and earning a bid to the Nashville Regional as a 3-seed.\"),\n",
              " Sentence(\"The Trojans defeated 2-seedOklahoma Statein the first round, but fell to 1-seedVanderbiltandBelmontconsecutively.\"),\n",
              " Sentence(\"The Trojans ended the 2011 season with a 42-17 record.\"),\n",
              " Sentence(\"Troy's highest rank of the season was #18 in theBaseball Americapoll.\"),\n",
              " Sentence(\"Troy had also reached a ranking of #25 in theUSA Todaycoaches poll and #22 in theCollege Baseball Newspoll.Troy once again won a regular season title in 2013, this time in a thrilling fashion.\"),\n",
              " Sentence(\"The Trojans played #18South Alabamaduring the last series of the regular season.\"),\n",
              " Sentence(\"After losing the first game of the series, the Trojans went on to win the next two games and clinch a share of the Sun Belt title.\"),\n",
              " Sentence(\"They finished the regular season with a 39-16 record.\"),\n",
              " Sentence(\"Troy finished the 2013 regular season ranked #21 in theCollege Baseball Newspoll.Golf[edit]Main article:Troy Trojans men's golfThe Troy men's golf team has a deep history of winning championships.\"),\n",
              " Sentence(\"A three-time NCAA national champion, the Trojan men were one of the most dominant golf teams in Division II, making 19-straight appearances in the NCAA Division II Golf Championships from 1975 to 1993.\"),\n",
              " Sentence(\"In that span, they managed to win three national championships in 1976, 1977, and 1984.Tennis[edit]Main article:Troy Trojans men's tennisTroy's men's tennis team began to rise to prominence in the early 1990s, after finishing ranked #8 in the nation in the NCAA Division IIITARankings.\"),\n",
              " Sentence(\"Soon after moving to Division I, Troy still brought their successes with them, winning theMid-Continent Conferencechampionship.The team would also go on to win conference titles in 2010 and 2015 in theSun Belt Conference.Trojans men's tennis player at the 2018 Sun Belt Men's Tennis Championships.Track & Field[edit]Troy's track and field men's teams routinely feature some of the best athletes in the Sun Belt Conference, as well as the country.\"),\n",
              " Sentence(\"Multiple athletes have qualified for the NCAA Championships.The team won eightGulf South Conferencetitles from 1977 to 1986, with head coaches John Anderson, Charles Oliver, and Rick Stetson all being named Coach of the Year a combined eight seasons.Cross Country[edit]The Trojans men's cross country program has been a dominant team for many years.\"),\n",
              " Sentence(\"Troy has won a total of 15 conference championships as a member of the Gulf South Conference, winning titles in 1971 and going on a streak of title runs from 1974 to 1988.Women[edit]Basketball[edit]Main article:Troy Trojans women's basketballIn 1997, the Troy University women's basketball team, under the direction of head coach Jerry Hester, won the Mid Continent Conference (now theSummit League) tournament championship in Buffalo, New York, and received an automatic berth to the NCAA Tournament where the Trojans traveled toCharlottesville, Virginia, and fell in the first round to theVirginiaby a score of 96–74.\"),\n",
              " Sentence(\"Under current head coachChanda Rigby, Troy has been to the NCAA Tournament twice and has won two Sun Belt tournament titles.\"),\n",
              " Sentence(\"In 2020, the Trojans won the Sun Belt regular season conference championship for the first time in program history.Softball[edit]Main article:Troy Trojans softballUpon Troy University's athletics moving all sports to the NCAA's Division I in 1993, the Troy softball program was started that same year and officially began their first season in 1994 under head coach Melanie Davis.\"),\n",
              " Sentence(\"Under Davis' leadership, the program immediately became a competitive softball program, finishing their first season in Division I with a 40-13 record, including a 4-3 win over an already prominent program inGeorgia Tech.In just Troy's third season of playing softball (1996), the team managed to make history by winning their first ever conference title and receiving a bid to play in an NCAA Regional.\"),\n",
              " Sentence(\"The team finished the season with a 47-22-1 record, winning theMid-Continent Conferenceregular season title and conference tournament title.\"),\n",
              " Sentence(\"The Lady Trojans would receive a bid to play in the NCAA Play-In Series versusSoutheast Missouri State, where they would sweep the Redhawks by scores of 3-2 and 1-0.\"),\n",
              " Sentence(\"The ladies would then receive a bid to play in the NCAA West Regional as the #4 seed.\"),\n",
              " Sentence(\"In their first game againstArizona, the Trojans were outmatched, losing 0-8 to the Wildcats.\"),\n",
              " Sentence(\"The Trojans were knocked out of the tournament after dropping a heartbreaker againstSouth Florida, 5-6.The Trojans are currently coached by Beth Mullins, who is in her 4th season.Volleyball[edit]Main article:Troy Trojans women's volleyballThe Troy women's volleyball team has won three conference tournament championships, one regular season championship, and two conference divisional championships in their history.\"),\n",
              " Sentence(\"In 2019, the Trojans advanced to the Second Round of theNational Invitational Volleyball Championship, defeatingNorth Carolina A&Tin the first round, before falling toGeorgia Techin the second round.Tennis[edit]Main article:Troy Trojans women's tennisThe Troy men's and women's tennis teams have a short but successful history in the sport.\"),\n",
              " Sentence(\"The women have won conference championships in the Atlantic Sun Conference and the Sun Belt Conference and received national rankings in various years.\"),\n",
              " Sentence(\"The men's team has won the 2010 and 2015 Sun Belt titles, finishing with rankings as high as #51 in the nation.The Troy Golf ClubhouseWomen's Golf[edit]Main article:Troy Trojans women's golfJust like the men's golf team, the women's golf team has a deep of history winning as well.\"),\n",
              " Sentence(\"In the NCAA's Division II, the Troy State women's golf team was one of the strongest teams in the nation in the 1980s, winning three national championships in 1984, 1986, and 1989.\"),\n",
              " Sentence(\"Despite the shorter history of the women's team, they've established themselves as proven winners.\"),\n",
              " Sentence(\"The women have been extremely successful recently, capturing three Sun Belt Conference titles and also receiving an individual at-large NCAA Regional berth for player Fátima Fernández Cano in 2016.Cross Country[edit]The women's cross country team was dominant while a member of the Gulf South Conference, winning the conference title five-straight years from 1982 to 1986.Defunct Programs[edit]Rodeo[edit]Troy University had one of the top collegiaterodeoprograms in the nation during its existence.\"),\n",
              " Sentence(\"In 2007, Troy calf roper Ben Mayworth won the calf roping national championship at the National Finals College Rodeo in Casper, Wyoming.\"),\n",
              " Sentence(\"The rodeo program's home facility was the Pike County Cattlemen's Arena in Troy where it hosted a three-day rodeo each October that featured college rodeo programs from throughout the southern region of the United States.The university discontinued its rodeo program at the end of the 2014 season.\"),\n",
              " Sentence(\"[3]National Championships[edit]Troy has won 14NCAAnational championships across five different sports, as well as 2NAIAnational championships.Team[edit]Football1968NAIANational Champions1984NCAA Division IINational Champions1987NCAA Division IINational ChampionsBaseball1986NCAA Division IINational Champions1987NCAA Division IINational ChampionsMen's Basketball1993NCAA Division IINational FinalistsMen's Golf1976NCAA Division IINational Champions1977NCAA Division IINational Champions1978NCAA Division IINational Finalists1983NCAA Division IINational Finalists1984NCAA Division IINational Champions1992NCAA Division IINational FinalistsWomen's Golf1984NCAA Division IINational Champions1986NCAA Division IINational Champions1989NCAA Division IINational ChampionsIndividual[edit]Men's Golf1980NCAA Division IIIndividual National Champion - Paul PeriniMen's Track & Field1976NAIA400-meter dash National Champion - Charles OliverMen's Rodeo2007College National Finals RodeoNational Champion (tie-down roping) - Ben MayworthFacilities[edit]ImageNameSportSeating capacityOpenedVeterans Memorial StadiumFootball30,4021950Trojan ArenaMen's basketballWomen's basketballVolleyballIndoor track & field6,0002012Riddle-Pace FieldBaseball2,0001931Troy Softball ComplexSoftball8002002Troy Golf Practice FacilityMen's golfWomen's golf-2014Colley Track & Field/Soccer ComplexWomen's soccerOutdoor track & field5002003Jimmy Lunsford Tennis ComplexMen's tennisWomen's tennis1502001References[edit].mw-parser-output .reflist{font-size:90%;margin-bottom:0.5em;list-style-type:decimal}.mw-parser-output .reflist .references{font-size:100%;margin-bottom:0;list-style-type:inherit}.mw-parser-output .reflist-columns-2{column-width:30em}.mw-parser-output .reflist-columns-3{column-width:25em}.mw-parser-output .reflist-columns{margin-top:0.3em}.mw-parser-output .reflist-columns ol{margin-top:0}.mw-parser-output .reflist-columns li{page-break-inside:avoid;break-inside:avoid-column}.mw-parser-output .reflist-upper-alpha{list-style-type:upper-alpha}.mw-parser-output .reflist-upper-roman{list-style-type:upper-roman}.mw-parser-output .reflist-lower-alpha{list-style-type:lower-alpha}.mw-parser-output .reflist-lower-greek{list-style-type:lower-greek}.mw-parser-output .reflist-lower-roman{list-style-type:lower-roman}^.mw-parser-output cite.citation{font-style:inherit}.mw-parser-output .citation q{quotes:\"\\\"\"\"\\\"\"\"'\"\"'\"}.mw-parser-output .id-lock-free a,.mw-parser-output .citation .cs1-lock-free a{background:linear-gradient(transparent,transparent),url(\"//upload.wikimedia.org/wikipedia/commons/6/65/Lock-green.svg\")right 0.1em center/9px no-repeat}.mw-parser-output .id-lock-limited a,.mw-parser-output .id-lock-registration a,.mw-parser-output .citation .cs1-lock-limited a,.mw-parser-output .citation .cs1-lock-registration a{background:linear-gradient(transparent,transparent),url(\"//upload.wikimedia.org/wikipedia/commons/d/d6/Lock-gray-alt-2.svg\")right 0.1em center/9px no-repeat}.mw-parser-output .id-lock-subscription a,.mw-parser-output .citation .cs1-lock-subscription a{background:linear-gradient(transparent,transparent),url(\"//upload.wikimedia.org/wikipedia/commons/a/aa/Lock-red-alt-2.svg\")right 0.1em center/9px no-repeat}.mw-parser-output .cs1-subscription,.mw-parser-output .cs1-registration{color:#555}.mw-parser-output .cs1-subscription span,.mw-parser-output .cs1-registration span{border-bottom:1px dotted;cursor:help}.mw-parser-output .cs1-ws-icon a{background:linear-gradient(transparent,transparent),url(\"//upload.wikimedia.org/wikipedia/commons/4/4c/Wikisource-logo.svg\")right 0.1em center/12px no-repeat}.mw-parser-output code.cs1-code{color:inherit;background:inherit;border:none;padding:inherit}.mw-parser-output .cs1-hidden-error{display:none;font-size:100%}.mw-parser-output .cs1-visible-error{font-size:100%}.mw-parser-output .cs1-maint{display:none;color:#33aa33;margin-left:0.3em}.mw-parser-output .cs1-format{font-size:95%}.mw-parser-output .cs1-kern-left,.mw-parser-output .cs1-kern-wl-left{padding-left:0.2em}.mw-parser-output .cs1-kern-right,.mw-parser-output .cs1-kern-wl-right{padding-right:0.2em}.mw-parser-output .citation .mw-selflink{font-weight:inherit}\"Trojan 2.0 Best Practices and Style Guide\".\"),\n",
              " Sentence(\"RetrievedJune 3,2018.^\"Archived copy\".\"),\n",
              " Sentence(\"Archived fromthe originalon 2007-03-11.\"),\n",
              " Sentence(\"Retrieved2007-05-19.CS1 maint: archived copy as title (link)^\"Troy University to Discontinue Rodeo Programs\".External links[edit]Official website.mw-parser-output .navbar{display:inline;font-size:88%;font-weight:normal}.mw-parser-output .navbar-collapse{float:left;text-align:left}.mw-parser-output .navbar-boxtext{word-spacing:0}.mw-parser-output .navbar ul{display:inline-block;white-space:nowrap;line-height:inherit}.mw-parser-output .navbar-brackets::before{margin-right:-0.125em;content:\"[ \"}.mw-parser-output .navbar-brackets::after{margin-left:-0.125em;content:\" ]\"}.mw-parser-output .navbar li{word-spacing:-0.125em}.mw-parser-output .navbar-mini abbr{font-variant:small-caps;border-bottom:none;text-decoration:none;cursor:inherit}.mw-parser-output .navbar-ct-full{font-size:114%;margin:0 7em}.mw-parser-output .navbar-ct-mini{font-size:114%;margin:0 4em}.mw-parser-output .infobox .navbar{font-size:100%}.mw-parser-output .navbox .navbar{display:block;font-size:100%}.mw-parser-output .navbox-title .navbar{float:left;text-align:left;margin-right:0.5em}vteTroy UniversityLocated in:Troy, AlabamaAcademicsColleges:The Division of General StudiesSorrell College of BusinessCollege of Health and Human Services / School of NursingCollege of EducationTroy University at DothanTroy University at MontgomeryTroy University at Phenix CityAthleticsTroy TrojansFootballBaseballMen's basketballWomen's basketballGolfVeterans Memorial StadiumTrojan ArenaColley Track/Soccer ComplexSun Belt ConferenceCampusTroy University ArboretumSound of the South Marching BandPeopleMike RiveraWilliam G. GregoryBobby BrightManuel H. JohnsonKevin R. KregelDeMarcus WareOsi UmenyioraLawrence TynesJames A. RoyLeodis McKelvinMarshall B. WebbOliver C. WileyvteSun Belt ConferenceFull members(with football)Appalachian State MountaineersArkansas State Red WolvesCoastal Carolina ChanticleersGeorgia Southern EaglesGeorgia State PanthersLouisiana Ragin' CajunsLouisiana–Monroe WarhawksSouth Alabama JaguarsTexas State BobcatsTroy TrojansFull members(non-football)Little Rock TrojansUT Arlington MavericksChampionships and awardsList of championsBaseballFootballMen's BasketballWomen's BasketballvteSports teams based inAlabamaBaseballDASBirmingham BaronsMontgomery BiscuitsRocket City Trash PandasBasketballG LeagueBirmingham SquadronABAMagic City BlitzMobile Bay TornadosNABLBirmingham VulcansHuntsville ForceTuscaloosa Titans(beginning 2018)FootballFFLBirmingham Kings (2020)HockeySPHLBirmingham BullsHuntsville HavocRoller derbyWFTDARocket City Roller DerbyTragic City RollersSoccerUSLCBirmingham Legion FCNPSLAFC MobileNorth Alabama SCCollege athleticsNCAA Division IAlabamaAlabama A&MAlabama StateAuburnJacksonville StateNorth AlabamaSamfordSouth AlabamaTroyUABNCAA Division IIAlabama–HuntsvilleAuburn–MontgomeryMilesMontevalloSpring HillStillmanTuskegeeWest AlabamaNCAA Division IIIBirmingham–SouthernHuntingdonRetrieved from \"https://en.wikipedia.org/w/index.php?title=Troy_Trojans&oldid=1037635778\"Categories:Troy TrojansHidden categories:CS1 maint: archived copy as titleNavigation menuPersonal toolsNot logged inTalkContributionsCreate accountLog inNamespacesArticleTalkVariantsexpandedcollapsedViewsReadEditView historyMoreexpandedcollapsedSearchNavigationMain pageContentsCurrent eventsRandom articleAbout WikipediaContact usDonateContributeHelpLearn to editCommunity portalRecent changesUpload fileToolsWhat links hereRelated changesUpload fileSpecial pagesPermanent linkPage informationCite this pageWikidata itemPrint/exportDownload as PDFPrintable versionIn other projectsWikimedia CommonsLanguagesDeutschEspañolFrançaisPolskiEdit linksThis page was last edited on 7 August 2021, at 19:34(UTC).Text is available under theCreative Commons Attribution-ShareAlike License;\n",
              " additional terms may apply.\"),\n",
              " Sentence(\"By using this site, you agree to theTerms of UseandPrivacy Policy.\"),\n",
              " Sentence(\"Wikipedia® is a registered trademark of theWikimedia Foundation, Inc., a non-profit organization.Privacy policyAbout WikipediaDisclaimersContact WikipediaMobile viewDevelopersStatisticsCookie statement(RLQ=window.RLQ||[]).push(function(){mw.config.set({\"wgPageParseReport\":{\"limitreport\":{\"cputime\":\"0.504\",\"walltime\":\"0.645\",\"ppvisitednodes\":{\"value\":1443,\"limit\":1000000},\"postexpandincludesize\":{\"value\":70817,\"limit\":2097152},\"templateargumentsize\":{\"value\":1398,\"limit\":2097152},\"expansiondepth\":{\"value\":12,\"limit\":40},\"expensivefunctioncount\":{\"value\":0,\"limit\":500},\"unstrip-depth\":{\"value\":1,\"limit\":20},\"unstrip-size\":{\"value\":16858,\"limit\":5000000},\"entityaccesscount\":{\"value\":1,\"limit\":400},\"timingprofile\":[\"100.00%  462.663      1 -total\",\" 28.19%  130.421      1 Template:Reflist\",\" 24.14%  111.673      3 Template:Cite_web\",\" 22.97%  106.256      1 Template:Infobox_school_athletics\",\" 21.09%   97.592      1 Template:Infobox\",\" 15.87%   73.407      4 Template:Navbox\",\" 14.88%   68.835      1 Template:About\",\" 13.14%   60.787      1 Template:Troy_University\",\"  8.81%   40.783      1 Template:College_color_list\",\"  7.32%   33.889      1 Template:Official_website\"]},\"scribunto\":{\"limitreport-timeusage\":{\"value\":\"0.239\",\"limit\":\"10.000\"},\"limitreport-memusage\":{\"value\":5757681,\"limit\":52428800}},\"cachereport\":{\"origin\":\"mw1333\",\"timestamp\":\"20210925113805\",\"ttl\":1814400,\"transientcontent\":false}}});});{\"@context\":\"https:\\/\\/schema.org\",\"@type\":\"Article\",\"name\":\"Troy Trojans\",\"url\":\"https:\\/\\/en.wikipedia.org\\/wiki\\/Troy_Trojans\",\"sameAs\":\"http:\\/\\/www.wikidata.org\\/entity\\/Q7887406\",\"mainEntity\":\"http:\\/\\/www.wikidata.org\\/entity\\/Q7887406\",\"author\":{\"@type\":\"Organization\",\"name\":\"Contributors to Wikimedia projects\"},\"publisher\":{\"@type\":\"Organization\",\"name\":\"Wikimedia Foundation, Inc.\",\"logo\":{\"@type\":\"ImageObject\",\"url\":\"https:\\/\\/www.wikimedia.org\\/static\\/images\\/wmf-hor-googpub.png\"}},\"datePublished\":\"2007-05-19T19:40:37Z\",\"dateModified\":\"2021-08-07T19:34:30Z\",\"image\":\"https:\\/\\/upload.wikimedia.org\\/wikipedia\\/commons\\/3\\/34\\/Troy_Trojans_logo.svg\",\"headline\":\"athletic program of Troy University\"}(RLQ=window.RLQ||[]).push(function(){mw.config.set({\"wgBackendResponseTime\":119,\"wgHostname\":\"mw1441\"});});\")]"
            ]
          },
          "metadata": {},
          "execution_count": 73
        }
      ]
    },
    {
      "cell_type": "code",
      "metadata": {
        "colab": {
          "base_uri": "https://localhost:8080/"
        },
        "id": "roUdNysAzG16",
        "outputId": "323648aa-7b8b-4c99-db5e-77a2a69b5378"
      },
      "source": [
        "blob.sentiment"
      ],
      "execution_count": 74,
      "outputs": [
        {
          "output_type": "execute_result",
          "data": {
            "text/plain": [
              "Sentiment(polarity=0.0105180735930736, subjectivity=0.48510105727605746)"
            ]
          },
          "metadata": {},
          "execution_count": 74
        }
      ]
    },
    {
      "cell_type": "markdown",
      "metadata": {
        "id": "UIBg3hU00FMk"
      },
      "source": [
        "**12.4(Sentiment with NaivaeBayesAnalyzer)**"
      ]
    },
    {
      "cell_type": "code",
      "metadata": {
        "id": "AW9sTR4YzJmb"
      },
      "source": [
        "from textblob.sentiments import NaiveBayesAnalyzer\n",
        "blob = TextBlob(text,analyzer=NaiveBayesAnalyzer())"
      ],
      "execution_count": 75,
      "outputs": []
    },
    {
      "cell_type": "code",
      "metadata": {
        "colab": {
          "base_uri": "https://localhost:8080/"
        },
        "id": "edzzoAhGzVEB",
        "outputId": "15257845-766c-4793-a308-640257a54e33"
      },
      "source": [
        "nltk.download('movie_reviews')"
      ],
      "execution_count": 78,
      "outputs": [
        {
          "output_type": "stream",
          "name": "stdout",
          "text": [
            "[nltk_data] Downloading package movie_reviews to /root/nltk_data...\n",
            "[nltk_data]   Unzipping corpora/movie_reviews.zip.\n"
          ]
        },
        {
          "output_type": "execute_result",
          "data": {
            "text/plain": [
              "True"
            ]
          },
          "metadata": {},
          "execution_count": 78
        }
      ]
    },
    {
      "cell_type": "code",
      "metadata": {
        "colab": {
          "base_uri": "https://localhost:8080/",
          "height": 317
        },
        "id": "Ragjhb1dzvKH",
        "outputId": "26c987d5-0d05-4601-b1cc-00c27b6a4603"
      },
      "source": [
        "blob.sentiment"
      ],
      "execution_count": 79,
      "outputs": [
        {
          "output_type": "error",
          "ename": "AttributeError",
          "evalue": "ignored",
          "traceback": [
            "\u001b[0;31m---------------------------------------------------------------------------\u001b[0m",
            "\u001b[0;31mAttributeError\u001b[0m                            Traceback (most recent call last)",
            "\u001b[0;32m<ipython-input-79-53fc228c9aa1>\u001b[0m in \u001b[0;36m<module>\u001b[0;34m()\u001b[0m\n\u001b[0;32m----> 1\u001b[0;31m \u001b[0mblob\u001b[0m\u001b[0;34m.\u001b[0m\u001b[0msentiment\u001b[0m\u001b[0;34m\u001b[0m\u001b[0;34m\u001b[0m\u001b[0m\n\u001b[0m",
            "\u001b[0;32m/usr/local/lib/python3.7/dist-packages/textblob/decorators.py\u001b[0m in \u001b[0;36m__get__\u001b[0;34m(self, obj, cls)\u001b[0m\n\u001b[1;32m     22\u001b[0m         \u001b[0;32mif\u001b[0m \u001b[0mobj\u001b[0m \u001b[0;32mis\u001b[0m \u001b[0;32mNone\u001b[0m\u001b[0;34m:\u001b[0m\u001b[0;34m\u001b[0m\u001b[0;34m\u001b[0m\u001b[0m\n\u001b[1;32m     23\u001b[0m             \u001b[0;32mreturn\u001b[0m \u001b[0mself\u001b[0m\u001b[0;34m\u001b[0m\u001b[0;34m\u001b[0m\u001b[0m\n\u001b[0;32m---> 24\u001b[0;31m         \u001b[0mvalue\u001b[0m \u001b[0;34m=\u001b[0m \u001b[0mobj\u001b[0m\u001b[0;34m.\u001b[0m\u001b[0m__dict__\u001b[0m\u001b[0;34m[\u001b[0m\u001b[0mself\u001b[0m\u001b[0;34m.\u001b[0m\u001b[0mfunc\u001b[0m\u001b[0;34m.\u001b[0m\u001b[0m__name__\u001b[0m\u001b[0;34m]\u001b[0m \u001b[0;34m=\u001b[0m \u001b[0mself\u001b[0m\u001b[0;34m.\u001b[0m\u001b[0mfunc\u001b[0m\u001b[0;34m(\u001b[0m\u001b[0mobj\u001b[0m\u001b[0;34m)\u001b[0m\u001b[0;34m\u001b[0m\u001b[0;34m\u001b[0m\u001b[0m\n\u001b[0m\u001b[1;32m     25\u001b[0m         \u001b[0;32mreturn\u001b[0m \u001b[0mvalue\u001b[0m\u001b[0;34m\u001b[0m\u001b[0;34m\u001b[0m\u001b[0m\n\u001b[1;32m     26\u001b[0m \u001b[0;34m\u001b[0m\u001b[0m\n",
            "\u001b[0;32m/usr/local/lib/python3.7/dist-packages/textblob/blob.py\u001b[0m in \u001b[0;36msentiment\u001b[0;34m(self)\u001b[0m\n\u001b[1;32m    430\u001b[0m         \u001b[0;34m:\u001b[0m\u001b[0mrtype\u001b[0m\u001b[0;34m:\u001b[0m \u001b[0mnamedtuple\u001b[0m \u001b[0mof\u001b[0m \u001b[0mthe\u001b[0m \u001b[0mform\u001b[0m\u001b[0;31m \u001b[0m\u001b[0;31m`\u001b[0m\u001b[0;31m`\u001b[0m\u001b[0mSentiment\u001b[0m\u001b[0;34m(\u001b[0m\u001b[0mpolarity\u001b[0m\u001b[0;34m,\u001b[0m \u001b[0msubjectivity\u001b[0m\u001b[0;34m)\u001b[0m\u001b[0;31m`\u001b[0m\u001b[0;31m`\u001b[0m\u001b[0;34m\u001b[0m\u001b[0;34m\u001b[0m\u001b[0m\n\u001b[1;32m    431\u001b[0m         \"\"\"\n\u001b[0;32m--> 432\u001b[0;31m         \u001b[0;32mreturn\u001b[0m \u001b[0mself\u001b[0m\u001b[0;34m.\u001b[0m\u001b[0manalyzer\u001b[0m\u001b[0;34m.\u001b[0m\u001b[0manalyze\u001b[0m\u001b[0;34m(\u001b[0m\u001b[0mself\u001b[0m\u001b[0;34m.\u001b[0m\u001b[0mraw\u001b[0m\u001b[0;34m)\u001b[0m\u001b[0;34m\u001b[0m\u001b[0;34m\u001b[0m\u001b[0m\n\u001b[0m\u001b[1;32m    433\u001b[0m \u001b[0;34m\u001b[0m\u001b[0m\n\u001b[1;32m    434\u001b[0m     \u001b[0;34m@\u001b[0m\u001b[0mcached_property\u001b[0m\u001b[0;34m\u001b[0m\u001b[0;34m\u001b[0m\u001b[0m\n",
            "\u001b[0;32m/usr/local/lib/python3.7/dist-packages/textblob/en/sentiments.py\u001b[0m in \u001b[0;36manalyze\u001b[0;34m(self, text)\u001b[0m\n\u001b[1;32m     90\u001b[0m         \u001b[0mfiltered\u001b[0m \u001b[0;34m=\u001b[0m \u001b[0;34m(\u001b[0m\u001b[0mt\u001b[0m\u001b[0;34m.\u001b[0m\u001b[0mlower\u001b[0m\u001b[0;34m(\u001b[0m\u001b[0;34m)\u001b[0m \u001b[0;32mfor\u001b[0m \u001b[0mt\u001b[0m \u001b[0;32min\u001b[0m \u001b[0mtokens\u001b[0m \u001b[0;32mif\u001b[0m \u001b[0mlen\u001b[0m\u001b[0;34m(\u001b[0m\u001b[0mt\u001b[0m\u001b[0;34m)\u001b[0m \u001b[0;34m>=\u001b[0m \u001b[0;36m3\u001b[0m\u001b[0;34m)\u001b[0m\u001b[0;34m\u001b[0m\u001b[0;34m\u001b[0m\u001b[0m\n\u001b[1;32m     91\u001b[0m         \u001b[0mfeats\u001b[0m \u001b[0;34m=\u001b[0m \u001b[0mself\u001b[0m\u001b[0;34m.\u001b[0m\u001b[0mfeature_extractor\u001b[0m\u001b[0;34m(\u001b[0m\u001b[0mfiltered\u001b[0m\u001b[0;34m)\u001b[0m\u001b[0;34m\u001b[0m\u001b[0;34m\u001b[0m\u001b[0m\n\u001b[0;32m---> 92\u001b[0;31m         \u001b[0mprob_dist\u001b[0m \u001b[0;34m=\u001b[0m \u001b[0mself\u001b[0m\u001b[0;34m.\u001b[0m\u001b[0m_classifier\u001b[0m\u001b[0;34m.\u001b[0m\u001b[0mprob_classify\u001b[0m\u001b[0;34m(\u001b[0m\u001b[0mfeats\u001b[0m\u001b[0;34m)\u001b[0m\u001b[0;34m\u001b[0m\u001b[0;34m\u001b[0m\u001b[0m\n\u001b[0m\u001b[1;32m     93\u001b[0m         return self.RETURN_TYPE(\n\u001b[1;32m     94\u001b[0m             \u001b[0mclassification\u001b[0m\u001b[0;34m=\u001b[0m\u001b[0mprob_dist\u001b[0m\u001b[0;34m.\u001b[0m\u001b[0mmax\u001b[0m\u001b[0;34m(\u001b[0m\u001b[0;34m)\u001b[0m\u001b[0;34m,\u001b[0m\u001b[0;34m\u001b[0m\u001b[0;34m\u001b[0m\u001b[0m\n",
            "\u001b[0;31mAttributeError\u001b[0m: 'NoneType' object has no attribute 'prob_classify'"
          ]
        }
      ]
    },
    {
      "cell_type": "markdown",
      "metadata": {
        "id": "g1zaoOgn0MiQ"
      },
      "source": [
        "**12.5(Spell check a Project Gutenberg Book)**"
      ]
    },
    {
      "cell_type": "code",
      "metadata": {
        "id": "L4gcfctf0MXS"
      },
      "source": [
        "response = requests.get('https://www.gutenberg.org/files/1513/1513-0.txt')"
      ],
      "execution_count": 81,
      "outputs": []
    },
    {
      "cell_type": "code",
      "metadata": {
        "id": "o7JFOcJ9z12q"
      },
      "source": [
        "soup = BeautifulSoup(response.content,'html5lib')"
      ],
      "execution_count": 84,
      "outputs": []
    },
    {
      "cell_type": "code",
      "metadata": {
        "id": "rf8-2frT1iGe"
      },
      "source": [
        "text=soup.get_text(strip=True)"
      ],
      "execution_count": 87,
      "outputs": []
    },
    {
      "cell_type": "code",
      "metadata": {
        "id": "s8M3P8h21jxI"
      },
      "source": [
        "blob = TextBlob(text)"
      ],
      "execution_count": 88,
      "outputs": []
    },
    {
      "cell_type": "code",
      "metadata": {
        "id": "bST37ZiX11l2"
      },
      "source": [
        "from textblob import Word"
      ],
      "execution_count": 90,
      "outputs": []
    },
    {
      "cell_type": "code",
      "metadata": {
        "id": "Mx4iNu7G136D"
      },
      "source": [
        "words = blob.words"
      ],
      "execution_count": 95,
      "outputs": []
    },
    {
      "cell_type": "code",
      "metadata": {
        "colab": {
          "base_uri": "https://localhost:8080/"
        },
        "id": "dfWbaQzY3lGN",
        "outputId": "370c84b6-5bc4-443a-f431-2ff9a6ebeaba"
      },
      "source": [
        "for word in words[:10]:\n",
        "  word = Word(word)\n",
        "  if (word.spellcheck()[0][0].lower() != word):\n",
        "    print(word + ' -> ' + word.correct())"
      ],
      "execution_count": 127,
      "outputs": [
        {
          "output_type": "stream",
          "name": "stdout",
          "text": [
            "The -> The\n",
            "Project -> Project\n",
            "Gutenberg -> Gutenberg\n",
            "eBook -> ebook\n",
            "Romeo -> Some\n",
            "Juliet -> Juliet\n",
            "William -> William\n"
          ]
        }
      ]
    },
    {
      "cell_type": "markdown",
      "metadata": {
        "id": "xCOIPEKw5mf1"
      },
      "source": [
        "**12.7(Texatatistic: readability of News Articles)**"
      ]
    },
    {
      "cell_type": "code",
      "metadata": {
        "id": "T1lrdvbi4FXC"
      },
      "source": [
        "urls =['https://en.wikipedia.org/wiki/Troy_Trojans',\n",
        "      'https://en.wikipedia.org/wiki/NCAA_Division_I',\n",
        "  'https://en.wikipedia.org/wiki/Pacific_Ocean']"
      ],
      "execution_count": 131,
      "outputs": []
    },
    {
      "cell_type": "code",
      "metadata": {
        "colab": {
          "base_uri": "https://localhost:8080/",
          "height": 311
        },
        "id": "5pQ8cz5i9fdJ",
        "outputId": "6c13064c-e606-41c5-c385-5a5991c8e1b9"
      },
      "source": [
        "from textatistic import Textatistic\n",
        "#I cannot import textatistic on colab for some reason, it works fine on my ipython on terminal. So im gonna skip this"
      ],
      "execution_count": 138,
      "outputs": [
        {
          "output_type": "error",
          "ename": "ModuleNotFoundError",
          "evalue": "ignored",
          "traceback": [
            "\u001b[0;31m---------------------------------------------------------------------------\u001b[0m",
            "\u001b[0;31mModuleNotFoundError\u001b[0m                       Traceback (most recent call last)",
            "\u001b[0;32m<ipython-input-138-5d518ca67647>\u001b[0m in \u001b[0;36m<module>\u001b[0;34m()\u001b[0m\n\u001b[0;32m----> 1\u001b[0;31m \u001b[0;32mfrom\u001b[0m \u001b[0mtextatistic\u001b[0m \u001b[0;32mimport\u001b[0m \u001b[0mTextatistic\u001b[0m\u001b[0;34m\u001b[0m\u001b[0;34m\u001b[0m\u001b[0m\n\u001b[0m",
            "\u001b[0;31mModuleNotFoundError\u001b[0m: No module named 'textatistic'",
            "",
            "\u001b[0;31m---------------------------------------------------------------------------\u001b[0;32m\nNOTE: If your import is failing due to a missing package, you can\nmanually install dependencies using either !pip or !apt.\n\nTo view examples of installing some common dependencies, click the\n\"Open Examples\" button below.\n\u001b[0;31m---------------------------------------------------------------------------\u001b[0m\n"
          ],
          "errorDetails": {
            "actions": [
              {
                "action": "open_url",
                "actionText": "Open Examples",
                "url": "/notebooks/snippets/importing_libraries.ipynb"
              }
            ]
          }
        }
      ]
    },
    {
      "cell_type": "code",
      "metadata": {
        "id": "NpX9PIYH7UWU"
      },
      "source": [
        "# texts = []\n",
        "# for url in urls:\n",
        "#   response = requests.get(url)\n",
        "#   soup = BeautifulSoup(response.content, 'html5lib')\n",
        "#   text = soup.get_text(strip=True)\n",
        "#   texts.append()"
      ],
      "execution_count": 135,
      "outputs": []
    },
    {
      "cell_type": "markdown",
      "metadata": {
        "id": "_i9ME9_hG7Pb"
      },
      "source": [
        "**12.8(spaCy: Named Entity Reecoginition)**"
      ]
    },
    {
      "cell_type": "code",
      "metadata": {
        "id": "j6RQY8SzKRAi"
      },
      "source": [
        "response = requests.get('https://en.wikipedia.org/wiki/Troy_Trojans')\n",
        "soup = BeautifulSoup(response.content, 'html.parser')\n",
        "text = soup.get_text(strip=True)"
      ],
      "execution_count": 142,
      "outputs": []
    },
    {
      "cell_type": "code",
      "metadata": {
        "id": "P5hRBDA1KRAw"
      },
      "source": [
        "import spacy\n",
        "nlp = spacy.load('en')"
      ],
      "execution_count": 141,
      "outputs": []
    },
    {
      "cell_type": "code",
      "metadata": {
        "id": "IDCKGhDfKRAw"
      },
      "source": [
        "document = nlp(text)"
      ],
      "execution_count": 143,
      "outputs": []
    },
    {
      "cell_type": "code",
      "metadata": {
        "colab": {
          "base_uri": "https://localhost:8080/"
        },
        "id": "QPuAZrjeNssy",
        "outputId": "88d57fe6-1a82-4bf5-db77-cee9f509cc8a"
      },
      "source": [
        "for entity in document[:100]:\n",
        "  print(f'{entity.text}: {entity.ent_type_}')"
      ],
      "execution_count": 148,
      "outputs": [
        {
          "output_type": "stream",
          "name": "stdout",
          "text": [
            "Troy: PERSON\n",
            "Trojans: PERSON\n",
            "-: \n",
            "Wikipediadocument.documentElement.className=\"client: \n",
            "-: \n",
            "js\";RLCONF={\"wgBreakFrames\":!1,\"wgSeparatorTransformTable\":[\"\",\"\"],\"wgDigitTransformTable\":[\"\",\"\"],\"wgDefaultDateFormat\":\"dmy\",\"wgMonthNames\":[\"\",\"January\",\"February\",\"March\",\"April\",\"May\",\"June\",\"July\",\"August\",\"September\",\"October\",\"November\",\"December\"],\"wgRequestId\":\"2f35b483-b4f6: \n",
            "-: \n",
            "49c7-a98d-4b78533f07cb\",\"wgCSPNonce\":!1,\"wgCanonicalNamespace\":\"\",\"wgCanonicalSpecialPageName\":!1,\"wgNamespaceNumber\":0,\"wgPageName\":\"Troy_Trojans\",\"wgTitle\":\"Troy: \n",
            "Trojans\",\"wgCurRevisionId\":1037635778,\"wgRevisionId\":1037635778,\"wgArticleId\":46347394,\"wgIsArticle\":!0,\"wgIsRedirect\":!1,\"wgAction\":\"view\",\"wgUserName\":null,\"wgUserGroups\":[\"*\"],\"wgCategories\":[\"CS1: ORG\n",
            "maint: \n",
            ":: \n",
            "archived: \n",
            "copy: \n",
            "as: \n",
            "title\",\"Troy: PERSON\n",
            "Trojans\"],\"wgPageContentLanguage\":\"en\",\"wgPageContentModel\":\"wikitext\",\"wgRelevantPageName\":\"Troy_Trojans\",\"wgRelevantArticleId\":46347394,\"wgIsProbablyEditable\":!0,\"wgRelevantPageIsProbablyEditable\":!0,\"wgRestrictionEdit\":[],\"wgRestrictionMove: \n",
            "\": \n",
            ":: \n",
            "[: \n",
            "]: \n",
            ",: \n",
            "\n",
            ": \n",
            "\": \n",
            "wgFlaggedRevsParams\":{\"tags\":{\"status\":{\"levels\":-1}}},\"wgMediaViewerOnClick\":!0,\"wgMediaViewerEnabledByDefault\":!0,\"wgPopupsFlags\":10,\"wgVisualEditor\":{\"pageLanguageCode\":\"en\",\"pageLanguageDir\":\"ltr\",\"pageVariantFallbacks\":\"en\"},\"wgMFDisplayWikibaseDescriptions\":{\"search\":!0,\"nearby\":!0,\"watchlist\":!0,\"tagline\":!1},\"wgWMESchemaEditAttemptStepOversample\":!1,\"wgULSCurrentAutonym\":\"English\",\"wgNoticeProject\":\"wikipedia\",\"wgEditSubmitButtonLabelPublish\":!0,\"wgULSPosition\":\"interlanguage\",\"wgULSisCompactLinksEnabled\":!0,\"wgGENewcomerTasksGuidanceEnabled\":!0,\"wgGEAskQuestionEnabled\":!1,\"wgGELinkRecommendationsFrontendEnabled\":!1,\"wgCentralAuthMobileDomain\":!1,\"wgWikibaseItemId\":\"Q7887406\"};RLSTATE={\"ext.globalCssJs.user.styles\":\"ready\",\"site.styles\":\"ready\",\"noscript\":\"ready\",\"user.styles\":\"ready\",\"ext.globalCssJs.user\":\"ready\",\"user\":\"ready\",\"user.options\":\"loading\",\"ext.cite.styles\":\"ready\",\"skins.vector.styles.legacy\":\"ready\",\"jquery.tablesorter.styles: \n",
            "\": \n",
            ":: \n",
            "\n",
            ": \n",
            "\": \n",
            "ready\",\"jquery.makeCollapsible.styles\":\"ready\",\"ext.visualEditor.desktopArticleTarget.noscript\":\"ready\",\"ext.uls.interlanguage\":\"ready\",\"ext.wikimediaBadges\":\"ready\",\"wikibase.client.init\":\"ready\"};RLPAGEMODULES=[\"ext.cite.ux: \n",
            "-: \n",
            "enhancements\",\"site\",\"mediawiki.page.ready\",\"jquery.tablesorter\",\"jquery.makeCollapsible\",\"mediawiki.toc\",\"skins.vector.legacy.js\",\"ext.gadget: \n",
            ".: \n",
            "ReferenceTooltips\",\"ext.gadget.charinsert\",\"ext.gadget.extra: \n",
            "-: \n",
            "toolbar: \n",
            "-: \n",
            "buttons\",\"ext.gadget.refToolbar\",\"ext.gadget.switcher\",\"mmv.head\",\"mmv.bootstrap.autostart\",\"ext.popups\",\"ext.visualEditor.desktopArticleTarget.init\",\"ext.visualEditor.targetLoader\",\"ext.eventLogging\",\"ext.wikimediaEvents\",\"ext.navigationTiming\",\"ext.uls.compactlinks\",\"ext.uls.interface\",\"ext.cx.eventlogging.campaigns\",\"ext.centralNotice.geoIP\",\"ext.centralNotice.startUp\",\"ext.centralauth.centralautologin\",\"ext.growthExperiments: \n",
            ".: \n",
            "SuggestedEditSession\"];(RLQ: \n",
            "=: \n",
            "window: \n",
            ".: \n",
            "RLQ||[]).push(function(){mw.loader.implement(\"user.options@1hzgi\",function($,jQuery: \n",
            ",: \n",
            "require: \n",
            ",: \n",
            "module){/*@nomin*/mw.user.tokens.set({\"patrolToken\":\"+\\\\\",\"watchToken\":\"+\\\\\",\"csrfToken\":\"+\\\\: \n",
            "\": \n",
            "}: \n",
            "): \n",
            ";: \n",
            "\n",
            ": \n",
            "}: \n",
            "): \n",
            ";: \n",
            "}: \n",
            "): \n",
            ";: \n",
            "Troy: PERSON\n",
            "TrojansFrom: PERSON\n",
            "Wikipedia: PERSON\n",
            ",: \n",
            "the: \n",
            "free: \n",
            "encyclopediaJump: \n",
            "to: \n",
            "navigationJump: \n",
            "to: \n",
            "search.mw: \n",
            "-: \n",
            "parser: \n",
            "-: \n",
            "output: \n",
            ".hatnote{font: \n",
            "-: \n",
            "style: \n",
            ":: \n",
            "italic}.mw: \n",
            "-: \n",
            "parser: \n",
            "-: \n",
            "output: \n",
            "div.hatnote{padding: \n",
            "-: \n",
            "left:1.6em;margin: \n",
            "-: \n",
            "bottom:0.5em}.mw: \n",
            "-: \n",
            "parser: \n",
            "-: \n",
            "output: \n",
            ".hatnote: \n",
            "i{font: \n",
            "-: \n",
            "style: \n",
            ":: \n",
            "normal}.mw: \n",
            "-: \n",
            "parser: \n",
            "-: \n"
          ]
        }
      ]
    },
    {
      "cell_type": "markdown",
      "metadata": {
        "id": "ubk06LJiPaVj"
      },
      "source": [
        "**12.10(spaCy: Shakespeare similarity detection)**"
      ]
    },
    {
      "cell_type": "code",
      "metadata": {
        "id": "7snvdCbvN16M"
      },
      "source": [
        "urls =['https://www.gutenberg.org/files/1513/1513-0.txt',\n",
        "       'https://www.gutenberg.org/cache/epub/66371/pg66371.txt']\n",
        "documents = []\n",
        "for url in urls:\n",
        "  response = requests.get(url)\n",
        "  soup = BeautifulSoup(response.content,'html5lib')\n",
        "  text = soup.get_text(strip=True)\n",
        "  documents.append(nlp(text))"
      ],
      "execution_count": 151,
      "outputs": []
    },
    {
      "cell_type": "code",
      "metadata": {
        "colab": {
          "base_uri": "https://localhost:8080/"
        },
        "id": "rxImne7eRJgI",
        "outputId": "a9e62059-6794-46d1-c226-3bc56d01087b"
      },
      "source": [
        "documents[0].similarity(documents[1])"
      ],
      "execution_count": 152,
      "outputs": [
        {
          "output_type": "stream",
          "name": "stderr",
          "text": [
            "/usr/lib/python3.7/runpy.py:193: ModelsWarning: [W007] The model you're using has no word vectors loaded, so the result of the Doc.similarity method will be based on the tagger, parser and NER, which may not give useful similarity judgements. This may happen if you're using one of the small models, e.g. `en_core_web_sm`, which don't ship with word vectors and only use context-sensitive tensors. You can always add your own word vectors, or use one of the larger models instead if available.\n",
            "  \"__main__\", mod_spec)\n"
          ]
        },
        {
          "output_type": "execute_result",
          "data": {
            "text/plain": [
              "0.8890341559502577"
            ]
          },
          "metadata": {},
          "execution_count": 152
        }
      ]
    },
    {
      "cell_type": "code",
      "metadata": {
        "id": "LprlZfx-U4Ox"
      },
      "source": [
        ""
      ],
      "execution_count": null,
      "outputs": []
    }
  ]
}