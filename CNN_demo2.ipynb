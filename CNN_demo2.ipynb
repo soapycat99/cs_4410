{
  "nbformat": 4,
  "nbformat_minor": 0,
  "metadata": {
    "colab": {
      "name": "Untitled18.ipynb",
      "provenance": [],
      "authorship_tag": "ABX9TyMJrPhe0M815+52wsxC0ueB",
      "include_colab_link": true
    },
    "kernelspec": {
      "name": "python3",
      "display_name": "Python 3"
    },
    "language_info": {
      "name": "python"
    }
  },
  "cells": [
    {
      "cell_type": "markdown",
      "metadata": {
        "id": "view-in-github",
        "colab_type": "text"
      },
      "source": [
        "<a href=\"https://colab.research.google.com/github/soapycat99/cs_4410/blob/main/CNN_demo2.ipynb\" target=\"_parent\"><img src=\"https://colab.research.google.com/assets/colab-badge.svg\" alt=\"Open In Colab\"/></a>"
      ]
    },
    {
      "cell_type": "code",
      "metadata": {
        "id": "97wtcrPKtaDo"
      },
      "source": [
        "import tensorflow as tf \n",
        "import pandas as pd \n",
        "import numpy as np\n",
        "import matplotlib.pyplot as plt\n",
        "import seaborn as sn"
      ],
      "execution_count": 1,
      "outputs": []
    },
    {
      "cell_type": "code",
      "metadata": {
        "id": "-wCEYjyRtds3"
      },
      "source": [
        "from tensorflow.keras.datasets import mnist"
      ],
      "execution_count": 2,
      "outputs": []
    },
    {
      "cell_type": "code",
      "metadata": {
        "id": "lYZup0GttsNM",
        "colab": {
          "base_uri": "https://localhost:8080/",
          "height": 0
        },
        "outputId": "928c86b2-caeb-4f96-80c1-41732f6b7235"
      },
      "source": [
        "(X_train, y_train), (X_test, y_test) = mnist.load_data()"
      ],
      "execution_count": 3,
      "outputs": [
        {
          "output_type": "stream",
          "name": "stdout",
          "text": [
            "Downloading data from https://storage.googleapis.com/tensorflow/tf-keras-datasets/mnist.npz\n",
            "11493376/11490434 [==============================] - 0s 0us/step\n",
            "11501568/11490434 [==============================] - 0s 0us/step\n"
          ]
        }
      ]
    },
    {
      "cell_type": "code",
      "metadata": {
        "colab": {
          "base_uri": "https://localhost:8080/",
          "height": 0
        },
        "id": "m6ZM5oGRYy93",
        "outputId": "c5605af6-e767-42dd-c6d5-3801c3d0f6c2"
      },
      "source": [
        "X_train.shape"
      ],
      "execution_count": 4,
      "outputs": [
        {
          "output_type": "execute_result",
          "data": {
            "text/plain": [
              "(60000, 28, 28)"
            ]
          },
          "metadata": {},
          "execution_count": 4
        }
      ]
    },
    {
      "cell_type": "code",
      "metadata": {
        "colab": {
          "base_uri": "https://localhost:8080/",
          "height": 0
        },
        "id": "JyujuoH8Y1Y0",
        "outputId": "af22dd7a-e137-4e9a-a93b-423b3d9d24ec"
      },
      "source": [
        "y_train.shape"
      ],
      "execution_count": 5,
      "outputs": [
        {
          "output_type": "execute_result",
          "data": {
            "text/plain": [
              "(60000,)"
            ]
          },
          "metadata": {},
          "execution_count": 5
        }
      ]
    },
    {
      "cell_type": "code",
      "metadata": {
        "colab": {
          "base_uri": "https://localhost:8080/",
          "height": 540
        },
        "id": "dJk8tA66Y3J_",
        "outputId": "cd193625-7307-46dc-da2b-935608fd211f"
      },
      "source": [
        "index = np.random.choice(np.arange(len(X_train)), 24, replace=False)  # 24 indices\n",
        "figure, axes = plt.subplots(nrows=4, ncols=6, figsize=(16, 9))\n",
        "\n",
        "for item in zip(axes.ravel(), X_train[index], y_train[index]):\n",
        "    axes, image, target = item\n",
        "    axes.imshow(image, cmap=plt.cm.gray_r)\n",
        "    axes.set_xticks([])  # remove x-axis tick marks\n",
        "    axes.set_yticks([])  # remove y-axis tick marks\n",
        "    axes.set_title(target)"
      ],
      "execution_count": 6,
      "outputs": [
        {
          "output_type": "display_data",
          "data": {
            "image/png": "[encoded data removed]",
            "text/plain": [
              "<Figure size 1152x648 with 24 Axes>"
            ]
          },
          "metadata": {}
        }
      ]
    },
    {
      "cell_type": "code",
      "metadata": {
        "id": "1DFOPL4kY-pC"
      },
      "source": [
        "X_train = X_train.reshape((60000, 28, 28, 1)) "
      ],
      "execution_count": 7,
      "outputs": []
    },
    {
      "cell_type": "code",
      "metadata": {
        "colab": {
          "base_uri": "https://localhost:8080/",
          "height": 0
        },
        "id": "nYu9PjFKZW82",
        "outputId": "76f62c14-5d4d-4fc1-94ed-2980587630ce"
      },
      "source": [
        "X_train.shape"
      ],
      "execution_count": 8,
      "outputs": [
        {
          "output_type": "execute_result",
          "data": {
            "text/plain": [
              "(60000, 28, 28, 1)"
            ]
          },
          "metadata": {},
          "execution_count": 8
        }
      ]
    },
    {
      "cell_type": "code",
      "metadata": {
        "id": "xJ8PJiQbaWV-"
      },
      "source": [
        "X_test = X_test.reshape((10000, 28, 28, 1))"
      ],
      "execution_count": 9,
      "outputs": []
    },
    {
      "cell_type": "code",
      "metadata": {
        "id": "Gs0UzO0GaXqe"
      },
      "source": [
        "X_train = X_train.astype('float32') / 255"
      ],
      "execution_count": 10,
      "outputs": []
    },
    {
      "cell_type": "code",
      "metadata": {
        "id": "zpy5gVFIac7B"
      },
      "source": [
        "X_test = X_test.astype('float32') / 255"
      ],
      "execution_count": 11,
      "outputs": []
    },
    {
      "cell_type": "code",
      "metadata": {
        "id": "g-9Wlx2BbBgt"
      },
      "source": [
        "from tensorflow.keras.utils import to_categorical\n",
        "y_train = to_categorical(y_train)\n",
        "y_test = to_categorical(y_test)"
      ],
      "execution_count": 12,
      "outputs": []
    },
    {
      "cell_type": "code",
      "metadata": {
        "id": "6Dr2zNmpbHB2"
      },
      "source": [
        "from tensorflow.keras.models import Sequential \n",
        "cnn = Sequential() \n",
        "from tensorflow.keras.layers import Conv2D, Dense, Flatten, MaxPooling2D "
      ],
      "execution_count": 13,
      "outputs": []
    },
    {
      "cell_type": "code",
      "metadata": {
        "id": "w_3nyoQNbK4r"
      },
      "source": [
        "cnn.add(Conv2D(filters=64, kernel_size=(3, 3), activation='relu', input_shape=(28, 28, 1)))\n",
        "cnn.add(MaxPooling2D(pool_size=(2, 2)))\n",
        "cnn.add(Conv2D(filters=128, kernel_size=(3, 3), activation='relu'))\n",
        "cnn.add(MaxPooling2D(pool_size=(2, 2)))"
      ],
      "execution_count": 14,
      "outputs": []
    },
    {
      "cell_type": "code",
      "metadata": {
        "id": "8H0aiRaRbYeN"
      },
      "source": [
        "cnn.add(Flatten())\n",
        "# cnn.add(Dense(units=128, activation='relu'))\n",
        "cnn.add(Dense(units=10, activation='softmax'))"
      ],
      "execution_count": 15,
      "outputs": []
    },
    {
      "cell_type": "code",
      "metadata": {
        "colab": {
          "base_uri": "https://localhost:8080/",
          "height": 0
        },
        "id": "lAgtgUL8bcxI",
        "outputId": "9dde9b69-8a87-4938-a50d-af5b2cd43b87"
      },
      "source": [
        "cnn.summary()"
      ],
      "execution_count": 16,
      "outputs": [
        {
          "output_type": "stream",
          "name": "stdout",
          "text": [
            "Model: \"sequential\"\n",
            "_________________________________________________________________\n",
            "Layer (type)                 Output Shape              Param #   \n",
            "=================================================================\n",
            "conv2d (Conv2D)              (None, 26, 26, 64)        640       \n",
            "_________________________________________________________________\n",
            "max_pooling2d (MaxPooling2D) (None, 13, 13, 64)        0         \n",
            "_________________________________________________________________\n",
            "conv2d_1 (Conv2D)            (None, 11, 11, 128)       73856     \n",
            "_________________________________________________________________\n",
            "max_pooling2d_1 (MaxPooling2 (None, 5, 5, 128)         0         \n",
            "_________________________________________________________________\n",
            "flatten (Flatten)            (None, 3200)              0         \n",
            "_________________________________________________________________\n",
            "dense (Dense)                (None, 10)                32010     \n",
            "=================================================================\n",
            "Total params: 106,506\n",
            "Trainable params: 106,506\n",
            "Non-trainable params: 0\n",
            "_________________________________________________________________\n"
          ]
        }
      ]
    },
    {
      "cell_type": "code",
      "metadata": {
        "id": "yYMLihUdb6XK"
      },
      "source": [
        "cnn.compile(optimizer='adam',\n",
        "            loss='categorical_crossentropy',\n",
        "            metrics=['accuracy'])"
      ],
      "execution_count": 17,
      "outputs": []
    },
    {
      "cell_type": "code",
      "metadata": {
        "colab": {
          "base_uri": "https://localhost:8080/",
          "height": 0
        },
        "id": "zMoD10JJb9Ow",
        "outputId": "6239ea3f-fd6e-4e36-f881-d3fd7449b8f8"
      },
      "source": [
        "cnn.fit(X_train, y_train, epochs=5, batch_size=64, validation_split=0.1)"
      ],
      "execution_count": 18,
      "outputs": [
        {
          "output_type": "stream",
          "name": "stdout",
          "text": [
            "Epoch 1/5\n",
            "844/844 [==============================] - 99s 117ms/step - loss: 0.1724 - accuracy: 0.9493 - val_loss: 0.0514 - val_accuracy: 0.9865\n",
            "Epoch 2/5\n",
            "844/844 [==============================] - 99s 118ms/step - loss: 0.0555 - accuracy: 0.9826 - val_loss: 0.0494 - val_accuracy: 0.9867\n",
            "Epoch 3/5\n",
            "844/844 [==============================] - 99s 117ms/step - loss: 0.0385 - accuracy: 0.9879 - val_loss: 0.0397 - val_accuracy: 0.9885\n",
            "Epoch 4/5\n",
            "844/844 [==============================] - 99s 117ms/step - loss: 0.0293 - accuracy: 0.9907 - val_loss: 0.0350 - val_accuracy: 0.9903\n",
            "Epoch 5/5\n",
            "844/844 [==============================] - 99s 117ms/step - loss: 0.0223 - accuracy: 0.9926 - val_loss: 0.0354 - val_accuracy: 0.9907\n"
          ]
        },
        {
          "output_type": "execute_result",
          "data": {
            "text/plain": [
              "<keras.callbacks.History at 0x7f4952fb7a10>"
            ]
          },
          "metadata": {},
          "execution_count": 18
        }
      ]
    },
    {
      "cell_type": "code",
      "metadata": {
        "colab": {
          "base_uri": "https://localhost:8080/",
          "height": 0
        },
        "id": "VI0iPJavcEnS",
        "outputId": "b4408a4f-94e6-408b-989c-4b712cb76631"
      },
      "source": [
        "loss, accuracy = cnn.evaluate(X_test, y_test)"
      ],
      "execution_count": 19,
      "outputs": [
        {
          "output_type": "stream",
          "name": "stdout",
          "text": [
            "313/313 [==============================] - 5s 16ms/step - loss: 0.0248 - accuracy: 0.9912\n"
          ]
        }
      ]
    },
    {
      "cell_type": "code",
      "metadata": {
        "colab": {
          "base_uri": "https://localhost:8080/",
          "height": 0
        },
        "id": "ne9LA7vUfVFg",
        "outputId": "a5f0e50c-a804-44eb-d93d-20c9a8024354"
      },
      "source": [
        "loss"
      ],
      "execution_count": 57,
      "outputs": [
        {
          "output_type": "execute_result",
          "data": {
            "text/plain": [
              "0.03808724507689476"
            ]
          },
          "metadata": {},
          "execution_count": 57
        }
      ]
    },
    {
      "cell_type": "code",
      "metadata": {
        "colab": {
          "base_uri": "https://localhost:8080/",
          "height": 0
        },
        "id": "79sHicBsfYPH",
        "outputId": "ae21aa2f-7eca-4af9-c66a-fca9acdac5bb"
      },
      "source": [
        "accuracy"
      ],
      "execution_count": 58,
      "outputs": [
        {
          "output_type": "execute_result",
          "data": {
            "text/plain": [
              "0.9878000020980835"
            ]
          },
          "metadata": {},
          "execution_count": 58
        }
      ]
    },
    {
      "cell_type": "markdown",
      "metadata": {
        "id": "M8cDh3fxlw3Y"
      },
      "source": [
        "Removing first Dense layer reduces the CNN model accuracy because it cause the dense layer left have to learn harder from a greater amount of feature as it should be"
      ]
    },
    {
      "cell_type": "code",
      "metadata": {
        "id": "LnI5PVKTJY9v"
      },
      "source": [
        "#CNN with 2 Denser layer and another Dense layer with 4096 neurons\n",
        "altCNN = Sequential() \n",
        "altCNN.add(Conv2D(filters=64, kernel_size=(3, 3), activation='relu', input_shape=(28, 28, 1)))\n",
        "altCNN.add(MaxPooling2D(pool_size=(2, 2)))\n",
        "altCNN.add(Conv2D(filters=128, kernel_size=(3, 3), activation='relu'))\n",
        "altCNN.add(MaxPooling2D(pool_size=(2, 2)))\n",
        "altCNN.add(Flatten())\n",
        "altCNN.add(Dense(units=4096, activation='relu'))\n",
        "altCNN.add(Dense(units=128, activation='relu'))\n",
        "altCNN.add(Dense(units=10, activation='softmax'))"
      ],
      "execution_count": 20,
      "outputs": []
    },
    {
      "cell_type": "code",
      "metadata": {
        "colab": {
          "base_uri": "https://localhost:8080/",
          "height": 0
        },
        "id": "WRN_IOuIJ6JX",
        "outputId": "c5210740-74e5-4ce7-f368-7c4e9f1c261c"
      },
      "source": [
        "altCNN.summary()"
      ],
      "execution_count": 22,
      "outputs": [
        {
          "output_type": "stream",
          "name": "stdout",
          "text": [
            "Model: \"sequential_1\"\n",
            "_________________________________________________________________\n",
            "Layer (type)                 Output Shape              Param #   \n",
            "=================================================================\n",
            "conv2d_2 (Conv2D)            (None, 26, 26, 64)        640       \n",
            "_________________________________________________________________\n",
            "max_pooling2d_2 (MaxPooling2 (None, 13, 13, 64)        0         \n",
            "_________________________________________________________________\n",
            "conv2d_3 (Conv2D)            (None, 11, 11, 128)       73856     \n",
            "_________________________________________________________________\n",
            "max_pooling2d_3 (MaxPooling2 (None, 5, 5, 128)         0         \n",
            "_________________________________________________________________\n",
            "flatten_1 (Flatten)          (None, 3200)              0         \n",
            "_________________________________________________________________\n",
            "dense_1 (Dense)              (None, 4096)              13111296  \n",
            "_________________________________________________________________\n",
            "dense_2 (Dense)              (None, 128)               524416    \n",
            "_________________________________________________________________\n",
            "dense_3 (Dense)              (None, 10)                1290      \n",
            "=================================================================\n",
            "Total params: 13,711,498\n",
            "Trainable params: 13,711,498\n",
            "Non-trainable params: 0\n",
            "_________________________________________________________________\n"
          ]
        }
      ]
    },
    {
      "cell_type": "code",
      "metadata": {
        "id": "r8lbPenIJ72n"
      },
      "source": [
        "altCNN.compile(optimizer='adam',\n",
        "            loss='categorical_crossentropy',\n",
        "            metrics=['accuracy'])"
      ],
      "execution_count": 24,
      "outputs": []
    },
    {
      "cell_type": "code",
      "metadata": {
        "colab": {
          "base_uri": "https://localhost:8080/",
          "height": 0
        },
        "id": "wvO9wGwuKFfj",
        "outputId": "0bff4109-cbcb-4663-a83e-a77834c94970"
      },
      "source": [
        "altCNN.fit(X_train, y_train, epochs=5, batch_size=64, validation_split=0.1)"
      ],
      "execution_count": 26,
      "outputs": [
        {
          "output_type": "stream",
          "name": "stdout",
          "text": [
            "Epoch 1/5\n",
            "844/844 [==============================] - 229s 271ms/step - loss: 0.1152 - accuracy: 0.9641 - val_loss: 0.0445 - val_accuracy: 0.9875\n",
            "Epoch 2/5\n",
            "844/844 [==============================] - 224s 265ms/step - loss: 0.0388 - accuracy: 0.9883 - val_loss: 0.0437 - val_accuracy: 0.9877\n",
            "Epoch 3/5\n",
            "844/844 [==============================] - 224s 265ms/step - loss: 0.0260 - accuracy: 0.9916 - val_loss: 0.0343 - val_accuracy: 0.9913\n",
            "Epoch 4/5\n",
            "844/844 [==============================] - 223s 264ms/step - loss: 0.0200 - accuracy: 0.9939 - val_loss: 0.0501 - val_accuracy: 0.9885\n",
            "Epoch 5/5\n",
            "844/844 [==============================] - 223s 264ms/step - loss: 0.0152 - accuracy: 0.9950 - val_loss: 0.0512 - val_accuracy: 0.9878\n"
          ]
        },
        {
          "output_type": "execute_result",
          "data": {
            "text/plain": [
              "<keras.callbacks.History at 0x7f494c548150>"
            ]
          },
          "metadata": {},
          "execution_count": 26
        }
      ]
    },
    {
      "cell_type": "code",
      "metadata": {
        "colab": {
          "base_uri": "https://localhost:8080/",
          "height": 0
        },
        "id": "3FnEnrNPKImM",
        "outputId": "35d3eef8-880d-4d92-a769-8d316900fbe0"
      },
      "source": [
        "loss, accuracy = altCNN.evaluate(X_test, y_test)"
      ],
      "execution_count": 27,
      "outputs": [
        {
          "output_type": "stream",
          "name": "stdout",
          "text": [
            "313/313 [==============================] - 12s 37ms/step - loss: 0.0424 - accuracy: 0.9876\n"
          ]
        }
      ]
    },
    {
      "cell_type": "code",
      "metadata": {
        "colab": {
          "base_uri": "https://localhost:8080/",
          "height": 0
        },
        "id": "ih6av55cPjWf",
        "outputId": "33a579ea-f808-4b88-b847-e2591f9106ac"
      },
      "source": [
        "loss"
      ],
      "execution_count": 28,
      "outputs": [
        {
          "output_type": "execute_result",
          "data": {
            "text/plain": [
              "0.04244760051369667"
            ]
          },
          "metadata": {},
          "execution_count": 28
        }
      ]
    },
    {
      "cell_type": "code",
      "metadata": {
        "colab": {
          "base_uri": "https://localhost:8080/",
          "height": 0
        },
        "id": "3EnxsTkTPm5H",
        "outputId": "895b6e62-4136-48f5-acc8-a46f0bf4ba01"
      },
      "source": [
        "accuracy"
      ],
      "execution_count": 29,
      "outputs": [
        {
          "output_type": "execute_result",
          "data": {
            "text/plain": [
              "0.9876000285148621"
            ]
          },
          "metadata": {},
          "execution_count": 29
        }
      ]
    },
    {
      "cell_type": "markdown",
      "metadata": {
        "id": "8yNq6GG7Pqnq"
      },
      "source": [
        "Add one more Dense layer with 4096 neurons reduces the CNN model accuracy because it cause the model overfitting"
      ]
    },
    {
      "cell_type": "code",
      "metadata": {
        "id": "bA-MjYY4Pn8M"
      },
      "source": [
        ""
      ],
      "execution_count": null,
      "outputs": []
    }
  ]
}